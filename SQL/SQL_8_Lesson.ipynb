{
 "cells": [
  {
   "cell_type": "markdown",
   "metadata": {},
   "source": [
    "# 8 УРОК ОКОННЫЕ ФУНКЦИИ"
   ]
  },
  {
   "cell_type": "markdown",
   "metadata": {},
   "source": [
    "# 6"
   ]
  },
  {
   "cell_type": "code",
   "execution_count": null,
   "metadata": {},
   "outputs": [],
   "source": [
    "Возможно вы о них забыли, но они вернулись! Данные по продажам авокадо 🥑: \n",
    "Note: Как зайти в Redash? Где лежат данные?\n",
    "\n",
    "date — дата\n",
    "average_price — средняя цена одного авокадо\n",
    "total_volume — количество проданных авокадо\n",
    "plu4046 — количество проданных авокадо PLU* 4046\n",
    "plu4225 — количество проданных авокадо PLU 4225\n",
    "plu4770 — количество проданных авокадо PLU 4770\n",
    "total_bags — всего упаковок\n",
    "small_bags — маленькие упаковки\n",
    "large_bags — большие\n",
    "xlarge_bags — очень большие\n",
    "type — обычный или органический\n",
    "year — год\n",
    "region — город или регион (TotalUS – сразу по США)\n",
    "В таблице находятся данные не за каждый день, а за конец каждой недели. Для каждой даты есть несколько наблюдений, отличающихся по типу авокадо и региону продажи. \n",
    "\n",
    "\n",
    "*PLU — код товара (Product Lookup code)\n",
    "\n",
    "Если у Вас есть вопросы, напишите сюда."
   ]
  },
  {
   "cell_type": "markdown",
   "metadata": {},
   "source": [
    "# 7"
   ]
  },
  {
   "cell_type": "code",
   "execution_count": null,
   "metadata": {},
   "outputs": [],
   "source": [
    "Давайте посмотрим на продажи авокадо в двух городах (NewYork, LosAngeles) и узнаем, сколько авокадо типа organic было продано в целом к концу каждой недели (накопительная сумма продаж), начиная с начала периода наблюдений (04/01/15). Пример результирующей таблицы:\n",
    "\n",
    "region\tdate\ttotal_volume \tvolume\n",
    "NewYork\t 04/01/15\t17328.24 \t17328.24 \n",
    "NewYork\t 11/01/15\t14817.97 \t32146.21 \n",
    "NewYork\t 18/01/15\t9204.78 \t41350.99 \n",
    "NewYork\t 25/01/15\t14337.32 \t55688.31 \n",
    "NewYork\t 01/02/15\t24697.84 \t80386.15 \n",
    "LosAngeles \t 04/01/15\t54495.54 \t54495.54 \n",
    "LosAngeles \t 11/01/15\t60232.63 \t114728.17 \n",
    "Значения внутри окна сортируйте по дате, а саму таблицу отсортируйте по убыванию региона (сначала NY, потом LA) и по возрастанию даты.\n",
    "\n",
    "В качестве ответа укажите объем продаж в Нью Йорке на 01/03/15 (без запятых).\n",
    "\n",
    "Hint: пример синтаксиса"
   ]
  },
  {
   "cell_type": "code",
   "execution_count": null,
   "metadata": {},
   "outputs": [],
   "source": [
    "- **Как решить это задание?**\n",
    "    \n",
    "    В этом задании нужно: \n",
    "    \n",
    "    - Написать запрос, где `region` **NewYork** или **LosAngeles,** `type` **organic** и `date` больше или равна 04/01/15.\n",
    "    - Написать оконную функцию и посчитать сколько авокадо было продано в целом к концу каждой недели.\n",
    "    - Значения **внутри окна** отсортировать по `date`, а **саму таблицу** \n",
    "    отсортировать по убыванию `region` (сначала NY, потом LA) и по возрастанию `date`.\n",
    "    - В ответе указать объем продаж в **NewYork** на 01/03/15.\n",
    "- **Пример синтаксиса**\n",
    "    \n",
    "    ```sql\n",
    "    SELECT\n",
    "        city,\n",
    "        date,\n",
    "        revenue,\n",
    "        SUM(revenue) OVER w AS revenue_sum\n",
    "    FROM \n",
    "        data\n",
    "    WINDOW w AS\n",
    "        (\n",
    "        PARTITION BY city\n",
    "        ORDER BY date ASC\n",
    "        ROWS BETWEEN UNBOUNDED PRECEDING AND CURRENT ROW\n",
    "        )\n",
    "    ORDER BY\n",
    "        city ASC,\n",
    "        date ASC\n",
    "    ```\n",
    "    \n",
    "- **Я всё сделал(а) как надо, почему мой ответ не принимают?**\n",
    "    \n",
    "    В ClickHouse нет оконных функций, поэтому не забудьте подключиться к Postgres. \n",
    "    Также, проверьте, что в качестве ответа указываете объем продаж в **NewYork** на **01/03/15.**"
   ]
  },
  {
   "cell_type": "code",
   "execution_count": null,
   "metadata": {},
   "outputs": [],
   "source": [
    "SELECT\n",
    "        region,\n",
    "        date,\n",
    "        total_volume,\n",
    "        SUM(total_volume) OVER w AS volume\n",
    "FROM avocado\n",
    "WHERE region IN ('NewYork', 'LosAngeles') AND type = 'organic' AND date >= '2015-01-04'\n",
    "    WINDOW w AS\n",
    "        (\n",
    "        PARTITION BY region\n",
    "        ORDER BY date ASC\n",
    "        ROWS BETWEEN UNBOUNDED PRECEDING AND CURRENT ROW\n",
    "        )\n",
    "ORDER BY\n",
    "    region DESC,\n",
    "    date ASC"
   ]
  },
  {
   "cell_type": "markdown",
   "metadata": {},
   "source": [
    "region\n",
    "date\n",
    "total_volume\n",
    "volume\n",
    "NewYork\n",
    "04/01/15\t17,328.24\t17,328.24\t\n",
    "NewYork\n",
    "11/01/15\t14,817.97\t32,146.21\t\n",
    "NewYork\n",
    "18/01/15\t9,204.78\t41,350.99\t\n",
    "NewYork\n",
    "25/01/15\t14,337.32\t55,688.31\t\n",
    "NewYork\n",
    "01/02/15\t24,697.84\t80,386.15\t\n",
    "NewYork\n",
    "08/02/15\t22,571.11\t102,957.26\t\n",
    "NewYork\n",
    "15/02/15\t25,037.76\t127,995.02\t\n",
    "NewYork\n",
    "22/02/15\t16,620.69\t144,615.71\t\n",
    "NewYork\n",
    "01/03/15\t20,787.25\t165,402.96"
   ]
  },
  {
   "cell_type": "markdown",
   "metadata": {},
   "source": [
    "###### ОТВЕТ: 165402.96"
   ]
  },
  {
   "cell_type": "markdown",
   "metadata": {},
   "source": [
    "## 8"
   ]
  },
  {
   "cell_type": "markdown",
   "metadata": {},
   "source": [
    "Теперь добавьте разбивку по каждому году (year). Таким образом, \n",
    "\n",
    "в конце февраля 2016 года объем составят уже не продажи за 2015 и январь-февраль 2016, а только за январь-февраль 2016.\n",
    "\n",
    "Когда объемы продаж органических авокадо в Нью-Йорке превысили объемы продаж в Лос-Анджелесе?\n",
    "\n",
    "Для решения задачи постройте график объема продаж в двух городах, где по оси X будет лежать дата. "
   ]
  },
  {
   "cell_type": "markdown",
   "metadata": {},
   "source": [
    "## - **Как решить это задание?**\n",
    "    \n",
    "    В этом задании нужно нужно модифицировать прошлый запрос так, что в вашей оконной функции в PARTITION BY был еще и год.\n",
    "    \n",
    "    - Написать запрос, где `region` **NewYork** или **LosAngeles, а** `type` **organic**\n",
    "    - Написать оконную функцию и посчитать сколько авокадо было продано в целом к концу каждой недели. Разбиение по каждому году (year).\n",
    "    - Значения **внутри окна** отсортировать по `date`, а **саму таблицу** отсортировать по убыванию `region` (сначала NY, потом LA) и по возрастанию `date`.\n",
    "    - Построить график объема продаж в двух городах, где по **оси X** будет лежать дата, а по **оси Y** объемы продаж и группировать по региону.\n",
    "- **Пример синтаксиса**\n",
    "    \n",
    "    ```sql\n",
    "    SELECT\n",
    "        city,\n",
    "        date,\n",
    "        revenue,\n",
    "        SUM(revenue) OVER w AS revenue_sum\n",
    "    FROM \n",
    "        data\n",
    "    WINDOW w AS\n",
    "        (\n",
    "        PARTITION BY city\n",
    "        ORDER BY date ASC\n",
    "        ROWS BETWEEN UNBOUNDED PRECEDING AND CURRENT ROW\n",
    "        )\n",
    "    ORDER BY\n",
    "        city ASC,\n",
    "        date ASC\n",
    "    ```\n",
    "    \n",
    "- **Я всё сделал(а) как надо, почему мой ответ не принимают?**\n",
    "    \n",
    "    В ClickHouse нет оконных функций, поэтому не забудьте подключиться к Postgres. Также, лучше использовать Line chart"
   ]
  },
  {
   "cell_type": "code",
   "execution_count": null,
   "metadata": {},
   "outputs": [],
   "source": [
    "# БЛИН ТУПО , year и все!!!\n",
    "SELECT\n",
    "        region,\n",
    "        year,\n",
    "        date,\n",
    "        total_volume,\n",
    "        SUM(total_volume) OVER w AS volume\n",
    "FROM avocado\n",
    "WHERE region IN ('NewYork', 'LosAngeles') AND type = 'organic' AND date >= '2015-01-04'\n",
    "    WINDOW w AS\n",
    "        (\n",
    "        PARTITION BY region, year\n",
    "        ORDER BY date ASC\n",
    "        ROWS BETWEEN UNBOUNDED PRECEDING AND CURRENT ROW\n",
    "        )\n",
    "ORDER BY\n",
    "    region DESC,\n",
    "    date ASC"
   ]
  },
  {
   "cell_type": "markdown",
   "metadata": {},
   "source": [
    "###### ОТВЕТ: В феврале 2018"
   ]
  },
  {
   "cell_type": "markdown",
   "metadata": {},
   "source": [
    "# 9"
   ]
  },
  {
   "cell_type": "markdown",
   "metadata": {},
   "source": [
    "Посмотрим, когда объемы продаж обычных (conventional) авокадо резко падали по сравнению с предыдущей неделей. Возьмите данные по США в целом, посчитайте разницу между объемом продаж в неделю x (total_volume) и количеством проданных авокадо в течение предыдущей недели. Значения запишите в новый столбец week_diff.\n",
    "\n",
    "type – тип авокадо (conventional)\n",
    "region – регион (TotalUS)\n",
    "total_volume – объем продаж за неделю\n",
    "Пример:\n",
    "\n",
    "date     \ttotal_volume  \tregion  \ttype         \tweek_diff     \n",
    "04/01/15\t31,324,277.73\tTotalUS \tconventional \t\n",
    "11/01/15\t29,063,542.75\tTotalUS \tconventional \t-2,260,734.98\n",
    "Визуализируйте результат, где по оси x будет расположена дата, а по оси y –разница между продажами в x \n",
    "t\n",
    "​\n",
    "  и x \n",
    "t−1\n",
    "​\n",
    " . Выберите верные утверждения.\n",
    "\n",
    " Hint: LAG"
   ]
  },
  {
   "cell_type": "code",
   "execution_count": null,
   "metadata": {},
   "outputs": [],
   "source": [
    "В этом задании нужно: \n",
    "\n",
    "- Написать запрос, где `region` **TotalUS,** а ****`type` conventional.\n",
    "- Написать оконную функцию и посчитать разницу между объемом продаж в неделю x (`total_volume`) и количеством проданных авокадо в течение предыдущей недели используя `lag()`.\n",
    "- Значения **внутри окна** отсортировать по `date`\n",
    "- Визуализировать результат, где по оси x будет расположена дата, а по оси y –разница между продажами"
   ]
  },
  {
   "cell_type": "code",
   "execution_count": null,
   "metadata": {},
   "outputs": [],
   "source": [
    "SELECT\n",
    "        date,\n",
    "        total_volume,\n",
    "        region,\n",
    "        type,\n",
    "        total_volume  - LAG(total_volume, 1) OVER w   AS week_diff\n",
    "FROM avocado\n",
    "WHERE region IN ('TotalUS') AND type = 'conventional'\n",
    "    WINDOW w AS\n",
    "        (\n",
    "        --PARTITION BY region, year\n",
    "        ORDER BY date ASC\n",
    "        --ROWS BETWEEN UNBOUNDED PRECEDING AND CURRENT ROW\n",
    "        )\n",
    "ORDER BY\n",
    "    date ASC"
   ]
  },
  {
   "cell_type": "markdown",
   "metadata": {},
   "source": [
    "date\n",
    "total_volume\n",
    "region\n",
    "type\n",
    "week_diff\n",
    "04/01/15\t31,324,277.73\t\n",
    "TotalUS\n",
    "conventional\n",
    "11/01/15\t29,063,542.75\t\n",
    "TotalUS\n",
    "conventional\n",
    "-2,260,734.98\t\n",
    "18/01/15\t29,043,458.85\t\n",
    "TotalUS\n",
    "conventional\n",
    "-20,083.90\t\n",
    "25/01/15\t28,470,310.84\t\n",
    "TotalUS\n",
    "conventional\n",
    "-573,148.01\t\n",
    "01/02/15\t44,655,461.51\t\n",
    "TotalUS\n",
    "conventional\n",
    "16,185,150.67\t\n",
    "08/02/15\t32,137,333.01\t\n",
    "TotalUS\n",
    "conventional\n",
    "-12,518,128.50\t\n",
    "15/02/15\t28,012,520.93\t\n",
    "TotalUS\n",
    "conventional\n",
    "-4,124,812.08\t\n",
    "22/02/15\t29,936,729.76\t\n",
    "TotalUS\n",
    "conventional\n",
    "1,924,208.83\t\n",
    "01/03/15\t32,994,014.16\t\n",
    "TotalUS\n",
    "conventional\n",
    "3,057,284.40\t\n",
    "08/03/15\t30,094,698.85\t\n",
    "TotalUS\n",
    "conventional\n",
    "-2,899,315.31"
   ]
  },
  {
   "cell_type": "markdown",
   "metadata": {},
   "source": [
    "##### ОТВЕТ:\n",
    "Самые большие падения объемов продаж авокадо происходили в феврале\n",
    "\n",
    "Самое крупное падение объемов продаж по сравнению с предыдущей неделей произошло 12 февраля 2017 года\n"
   ]
  },
  {
   "cell_type": "markdown",
   "metadata": {},
   "source": [
    "## 10"
   ]
  },
  {
   "cell_type": "markdown",
   "metadata": {},
   "source": [
    "Посмотрим более подробно на объемы продаж авокадо в Нью-Йорке (NewYork) в 2018 году. \n",
    "\n",
    "Создайте колонку с разницей объемов продаж за неделю и за неделю до этого для каждого типа авокадо. Найдите день, когда продажи авокадо типа organic увеличились по сравнению с предыдущей неделей, а conventional – наоборот упали. Если таких дней несколько, то укажите их через запятую с пробелом, формат – 31/12/2020. Например:\n",
    "\n",
    "29/03/2020, 31/12/2020\n",
    "\n",
    "\n",
    " Hint: LAG + документация\n",
    "\n"
   ]
  },
  {
   "cell_type": "code",
   "execution_count": null,
   "metadata": {},
   "outputs": [],
   "source": [
    "- **Как решить это задание?**\n",
    "    \n",
    "    В этом задании нужно: \n",
    "    \n",
    "    - Написать запрос, где `region` **NewYork,** а ****`year` **2018**.\n",
    "    - Написать оконную функцию и посчитать разницу между объемом продаж в неделю x (`total_volume`)\n",
    "    и количеством проданных авокадо в течение предыдущей недели используя `lag()`.\n",
    "    - Значения **внутри окна** отсортировать по `date` и разбить по `type`, саму таблицу сортировать по `type`\n",
    "    - Визуализировать результат, где по **оси Х** будет расположена дата, а по **оси Y** –разница между продажами,\n",
    "    и группировать по `type`"
   ]
  },
  {
   "cell_type": "code",
   "execution_count": null,
   "metadata": {},
   "outputs": [],
   "source": [
    "SELECT\n",
    "        date,\n",
    "        total_volume,\n",
    "        region,\n",
    "        type,\n",
    "        total_volume  - LAG(total_volume, 1) OVER w   AS week_diff\n",
    "FROM avocado\n",
    "WHERE region IN ('NewYork') AND year = 2018\n",
    "    WINDOW w AS\n",
    "        (\n",
    "        PARTITION BY type\n",
    "        ORDER BY date ASC\n",
    "        --ROWS BETWEEN UNBOUNDED PRECEDING AND CURRENT ROW\n",
    "        )\n",
    "ORDER BY\n",
    "    type ASC"
   ]
  },
  {
   "cell_type": "markdown",
   "metadata": {},
   "source": [
    "07/01/18\t1,287,480.31\t\n",
    "NewYork\n",
    "conventional\n",
    "14/01/18\t1,294,149.71\t\n",
    "NewYork\n",
    "conventional\n",
    "6,669.40\t\n",
    "21/01/18\t2,135,242.76\t\n",
    "NewYork\n",
    "conventional\n",
    "841,093.05\t\n",
    "28/01/18\t2,278,728.69\t\n",
    "NewYork\n",
    "conventional\n",
    "143,485.93\t\n",
    "04/02/18\t2,959,541.38\t\n",
    "NewYork\n",
    "conventional\n",
    "680,812.69\t\n",
    "11/02/18\t2,051,389.99\t\n",
    "NewYork\n",
    "conventional\n",
    "-908,151.39\t\n",
    "18/02/18\t1,413,687.38\t\n",
    "NewYork\n",
    "conventional\n",
    "-637,702.6"
   ]
  },
  {
   "cell_type": "markdown",
   "metadata": {},
   "source": [
    "##### ОТВЕТ: 18/02/2018, 18/03/2018"
   ]
  },
  {
   "cell_type": "markdown",
   "metadata": {},
   "source": [
    "## 11"
   ]
  },
  {
   "cell_type": "markdown",
   "metadata": {},
   "source": [
    "Теперь посчитайте скользящее среднее цены авокадо (average_price) в Нью-Йорке с разбивкой по типу авокадо. \n",
    "\n",
    "В качестве окна используйте текущую неделю и предыдущие две \n",
    "\n",
    "(обратите внимание, что в данной таблице в строках содержатся данные за неделю, а не за один день). \n",
    "\n",
    "Например 04/01/15, 11/01/15 и 18/01/15 для подсчета значения для 18/01/15.\n",
    "\n",
    "date     \taverage_price \tregion  \ttype         \trolling_price \n",
    "04/01/15\t1.09\tNewYork \tconventional \t1.09\n",
    "11/01/15\t1.34\tNewYork \tconventional \t1.22\n",
    "18/01/15 \t1.37\tNewYork \tconventional \t1.27\n",
    "25/01/15\t1.36\tNewYork \tconventional \t1.36\n",
    "В качестве ответа укажите полученное значение для обычных (conventional) авокадо за 17/04/16.\n",
    "\n",
    "Hint: N PRECEDING – N предыдущих строк "
   ]
  },
  {
   "cell_type": "code",
   "execution_count": null,
   "metadata": {},
   "outputs": [],
   "source": [
    "- **Как решить это задание?**\n",
    "    \n",
    "    Теперь посчитайте скользящее среднее цены авокадо (`average_price`) в Нью-Йорке с разбивкой по типу\n",
    "    \n",
    "    - Написать запрос, где `region` **NewYork**\n",
    "    - Написать оконную функцию и посчитайте скользящее среднее цены авокадо (`average_price`). Разбиение по `type`.\n",
    "    - Значения **внутри окна** отсортировать по `date`\n",
    "    - Нужно посчитать скользящее за **две** предыдущих недели и текущую(BETWEEN 2 PRECEDING).\n",
    "    - В качестве ответа указать полученное значение для **conventional** авокадо за **17/04/16**."
   ]
  },
  {
   "cell_type": "code",
   "execution_count": null,
   "metadata": {},
   "outputs": [],
   "source": [
    "Теперь посчитайте скользящее среднее цены авокадо (`average_price`) в Нью-Йорке с разбивкой по типу\n",
    "\n",
    "- Написать запрос, где `region` **NewYork**\n",
    "- Написать оконную функцию и посчитайте скользящее среднее цены авокадо (`average_price`). Разбиение по `type`.\n",
    "- Значения **внутри окна** отсортировать по `date`\n",
    "- Нужно посчитать скользящее за **две** предыдущих недели и текущую(BETWEEN 2 PRECEDING).\n",
    "- В качестве ответа указать полученное значение для **conventional** авокадо за **17/04/16**."
   ]
  },
  {
   "cell_type": "code",
   "execution_count": null,
   "metadata": {},
   "outputs": [],
   "source": [
    "SELECT\n",
    "        date,\n",
    "        average_price,\n",
    "        region,\n",
    "        type,\n",
    "        AVG(average_price) OVER w   AS rolling_price\n",
    "FROM avocado\n",
    "WHERE region IN ('NewYork')\n",
    "    WINDOW w AS\n",
    "        (\n",
    "        PARTITION BY type\n",
    "        ORDER BY date ASC\n",
    "        ROWS BETWEEN 2 PRECEDING AND CURRENT ROW \n",
    "        )\n",
    "ORDER BY\n",
    "    type ASC\n"
   ]
  },
  {
   "cell_type": "markdown",
   "metadata": {},
   "source": [
    "04/01/15\t1.09\t\n",
    "NewYork\n",
    "conventional\n",
    "1.09\t\n",
    "11/01/15\t1.34\t\n",
    "NewYork\n",
    "conventional\n",
    "1.22\t\n",
    "18/01/15\t1.37\t\n",
    "NewYork\n",
    "conventional\n",
    "1.27\t\n",
    "25/01/15\t1.36\t\n",
    "NewYork\n",
    "conventional\n",
    "1.36\t\n",
    "01/02/15\t1.36\t\n",
    "NewYork\n",
    "conventional\n",
    "1.36\t\n",
    "08/02/15\t1.11\t\n",
    "NewYork\n",
    "conventional\n",
    "1.28"
   ]
  },
  {
   "cell_type": "markdown",
   "metadata": {},
   "source": [
    "##### ОТВЕТ: 1.16"
   ]
  }
 ],
 "metadata": {
  "kernelspec": {
   "display_name": "Python 3",
   "language": "python",
   "name": "python3"
  },
  "language_info": {
   "codemirror_mode": {
    "name": "ipython",
    "version": 3
   },
   "file_extension": ".py",
   "mimetype": "text/x-python",
   "name": "python",
   "nbconvert_exporter": "python",
   "pygments_lexer": "ipython3",
   "version": "3.7.3"
  }
 },
 "nbformat": 4,
 "nbformat_minor": 4
}
