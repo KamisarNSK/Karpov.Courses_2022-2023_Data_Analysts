{
 "cells": [
  {
   "cell_type": "markdown",
   "metadata": {},
   "source": [
    "# 5 УРОК\n",
    "\n",
    "ПОДЗАПРОСЫ, ПРЕДСТАВЛЕНИЯ, СОЗДАНИЕ ТАБЛИЦ"
   ]
  },
  {
   "cell_type": "markdown",
   "metadata": {},
   "source": [
    "## 1\n",
    "\n",
    "С помощью какого оператора в ClickHouse можно создать представление?\n",
    "\n",
    "Возможно несколько вариантов ответа."
   ]
  },
  {
   "cell_type": "markdown",
   "metadata": {},
   "source": [
    "### Ответ:\n",
    "    CREATE VIEW\n",
    "    \n",
    "    CREATE MATERIALIZED VIEW"
   ]
  },
  {
   "cell_type": "markdown",
   "metadata": {},
   "source": [
    "## 2 \n",
    "В чём заключается различие между материализованным и обычным представлением? "
   ]
  },
  {
   "cell_type": "markdown",
   "metadata": {},
   "source": [
    "### Ответ:\n",
    "    \n",
    "Материализованное хранит данные на диске\n",
    "\n",
    "Обычное сохраняет запрос, который выполняется при обращении"
   ]
  },
  {
   "cell_type": "markdown",
   "metadata": {},
   "source": [
    "## 3"
   ]
  },
  {
   "cell_type": "code",
   "execution_count": null,
   "metadata": {},
   "outputs": [],
   "source": [
    "Данные для следующих задач: Airbnb в Берлине. Не забывайте о преобразовании столбцов к нужному типу данных!\n",
    "\n",
    "Note: Как зайти в ClickHouse. Если таблицы не видны в списке – попробуйте выйти и зайти ещё раз.\n",
    "\n",
    "Имеются следующие таблицы:\n",
    "\n",
    "1. listings – информация о жилье, включая полные описания, характеристики и средние оценки в отзывах; \n",
    "\n",
    "поскольку столбцов очень много, нужные перечислены в текстах самих задач\n",
    "\n",
    "2. calendar_summary – информация о доступности и цене того или иного жилья по дням\n",
    "\n",
    "listing_id – идентификатор жилья (объявления)\n",
    "date – дата\n",
    "available – доступность жилья в данный день (t/f)\n",
    "price – цена за ночь\n",
    "3. reviews – отзывы\n",
    "\n",
    "listing_id –  идентификатор жилья  \n",
    "id – id отзыва\n",
    "date – дата отзыва\n",
    "reviewer_id – id ревьюера (автора отзыва)\n",
    "reviewer_name – имя автора\n",
    "comments – сам отзыв"
   ]
  },
  {
   "cell_type": "markdown",
   "metadata": {},
   "source": [
    "## 4"
   ]
  },
  {
   "cell_type": "code",
   "execution_count": null,
   "metadata": {},
   "outputs": [],
   "source": [
    "Подзапросы можно использовать в разных частях запроса, в том числе и в блоке WHERE. Потренируемся!\n",
    "\n",
    "-- пример\n",
    "SELECT\n",
    "    column_1,\n",
    "    column_2\n",
    "FROM\n",
    "    table\n",
    "WHERE\n",
    "    column_2 = (SELECT MAX(column_2) \n",
    "                FROM table)\n",
    "\n",
    "\n",
    "Сначала оставьте только те объявления, в которых оценка на основе отзывов выше среднего, \n",
    "\n",
    "а число отзывов в месяц составляет строго меньше трёх. Затем отсортируйте по убыванию две колонки: \n",
    "    \n",
    "сначала по числу отзывов в месяц, потом по оценке. В качестве ответа укажите id объявления из первой строки.\n",
    "\n",
    "review_scores_rating – оценка на основе отзывов\n",
    "reviews_per_month – число отзывов в месяц\n",
    "id – идентификатор объявления\n",
    "Таблица – listings. Наивысшие показатели = сортировка по убыванию.\n",
    "\n",
    "ВАЖНОЕ ЗАМЕЧАНИЕ!\n",
    "\n",
    "Если вы делаете задание через REDASH, убедитесь, \n",
    "что в ответ вносите значение без запятых между порядками числа ( 9,424,234.05 -> 9424234.05 )"
   ]
  },
  {
   "cell_type": "code",
   "execution_count": null,
   "metadata": {},
   "outputs": [],
   "source": [
    "# НЕКОРЕКТНЫЙ ВАРИАНТ\n",
    "# SELECT\n",
    "#     id,\n",
    "#     review_scores_rating,\n",
    "#     reviews_per_month\n",
    "# FROM\n",
    "#     listings\n",
    "# WHERE\n",
    "#     toFloat64OrNull(review_scores_rating) > (SELECT \n",
    "# \t\t\t\t\tAVG(toFloat64OrNull(review_scores_rating))\n",
    "#                 FROM listings)\n",
    "# \t\tAND reviews_per_month < 3 \n",
    "\n",
    "# ORDER BY  reviews_per_month DESC, review_scores_rating DESC\n",
    "# LIMIT 100"
   ]
  },
  {
   "cell_type": "code",
   "execution_count": null,
   "metadata": {},
   "outputs": [],
   "source": [
    "# 15947545\t97.0\t2.99\n",
    "# 22476940\t100.0\t2.99\n",
    "# 24145948\t99.0\t2.98\n",
    "# 21390172\t99.0\t2.98\n",
    "# 25364559\t97.0\t2.98\n",
    "# 914944\t97.0\t2.98\n",
    "# 4149532\t100.0\t2.98\n",
    "# 15185336\t98.0\t2.97\n",
    "# 24785452\t100.0\t2.97\n",
    "# 25455082\t99.0\t2.96"
   ]
  },
  {
   "cell_type": "code",
   "execution_count": null,
   "metadata": {},
   "outputs": [],
   "source": [
    "# ПРАВИЛЬНЫЙ ВАРИАНТ\n",
    "SELECT\n",
    "    id,\n",
    "    toFloat64OrNull(review_scores_rating) as rating,\n",
    "    reviews_per_month\n",
    "FROM\n",
    "    listings\n",
    "WHERE\n",
    "     rating > (SELECT \n",
    "\t\t\t\t\tAVG(toFloat64OrNull(review_scores_rating))\n",
    "                FROM listings\n",
    "               )\n",
    "\t\tAND reviews_per_month < 3 \n",
    "\n",
    "ORDER BY  reviews_per_month DESC, rating DESC\n",
    "LIMIT 100"
   ]
  },
  {
   "cell_type": "code",
   "execution_count": null,
   "metadata": {},
   "outputs": [],
   "source": [
    "22476940\t100\t2.99\n",
    "15947545\t97\t2.99\n",
    "4149532\t100\t2.98\n",
    "24145948\t99\t2.98\n",
    "21390172\t99\t2.98\n",
    "25364559\t97\t2.98\n",
    "914944\t97\t2.98\n",
    "24785452\t100\t2.97\n",
    "15185336\t98\t2.97"
   ]
  },
  {
   "cell_type": "markdown",
   "metadata": {},
   "source": [
    "##### Ответ: 22476940\n",
    "Странно но ответ был на 2й позиции в неправильном варианте??"
   ]
  },
  {
   "cell_type": "markdown",
   "metadata": {},
   "source": [
    "## 5"
   ]
  },
  {
   "cell_type": "code",
   "execution_count": null,
   "metadata": {},
   "outputs": [],
   "source": [
    "Посчитайте среднее расстояние до центра города и выведите идентификаторы объявлений о сдаче отдельных комнат, \n",
    "\n",
    "для которых расстояние оказалось меньше среднего. Результат отсортируйте по убыванию, тем самым выбрав комнату,\n",
    "\n",
    "которая является наиболее удаленной от центра, но при этом расположена ближе, чем остальные комнаты в среднем. \n",
    "\n",
    "id – идентификатор объявления\n",
    "\n",
    "host_id – идентификатор хозяина\n",
    "\n",
    "room_type – тип жилья ('Private room')\n",
    "\n",
    "latitude – широта\n",
    "\n",
    "longitude – долгота\n",
    "\n",
    "52.5200 с.ш., 13.4050 в.д – координаты центра Берлина\n",
    "\n",
    "В качестве ответа укажите идентификатор хозяина (host_id), сдающего данную комнату.\n",
    "\n",
    "geoDistance(13.4050, 52.5200, долгота, широта)\n",
    "\n",
    "Note: задание можно решить как используя подзапрос в WHERE, так и с помощью WITH. \n",
    "\n",
    "    При подсчете среднего тип комнаты тоже следует учесть."
   ]
  },
  {
   "cell_type": "code",
   "execution_count": null,
   "metadata": {},
   "outputs": [],
   "source": [
    "SELECT\n",
    "    id,\n",
    "    host_id,\n",
    "    geoDistance(13.4050, 52.5200, toFloat64OrNull(longitude), toFloat64OrNull(latitude)) AS distance\n",
    "    \n",
    "FROM\n",
    "    listings\n",
    "WHERE\n",
    "     distance < \n",
    "    (SELECT \n",
    "\t\t\tAVG(geoDistance(13.4050, 52.5200, toFloat64OrNull(longitude), toFloat64OrNull(latitude)))\n",
    "            FROM listings\n",
    "            WHERE room_type  = 'Private room' )\n",
    "\t\tAND room_type  = 'Private room'\n",
    "\n",
    "ORDER BY  distance DESC\n",
    "LIMIT 100"
   ]
  },
  {
   "cell_type": "markdown",
   "metadata": {},
   "source": [
    "### ВАРИАНТ с WITH"
   ]
  },
  {
   "cell_type": "code",
   "execution_count": null,
   "metadata": {},
   "outputs": [],
   "source": [
    "WITH\n",
    "    (SELECT AVG(geoDistance(13.4050, 52.5200, toFloat64OrNull(longitude), toFloat64OrNull(latitude)))\n",
    "            FROM listings WHERE room_type  = 'Private room') AS avg_distance\n",
    " \n",
    "\n",
    "SELECT\n",
    "    id,\n",
    "    host_id,\n",
    "    geoDistance(13.4050, 52.5200, toFloat64OrNull(longitude), toFloat64OrNull(latitude)) AS distance\n",
    "    \n",
    "FROM\n",
    "    listings\n",
    "WHERE\n",
    "     distance < avg_distance\n",
    "\t\tAND room_type  = 'Private room'\n",
    "\n",
    "ORDER BY  distance DESC\n",
    "LIMIT 100"
   ]
  },
  {
   "cell_type": "code",
   "execution_count": null,
   "metadata": {},
   "outputs": [],
   "source": [
    "22306678\t163065208\t4608.982\n",
    "19843597\t54900115\t4608.205\n",
    "7172034\t25835088\t4608.166\n",
    "20508256\t21346093\t4607.219\n",
    "2398968\t12258154\t4606.447\n",
    "7732154\t19493279\t4605.592\n",
    "13648651\t79241577\t4605.3716"
   ]
  },
  {
   "cell_type": "markdown",
   "metadata": {},
   "source": [
    "###### ОТВЕТ : 163065208"
   ]
  },
  {
   "cell_type": "markdown",
   "metadata": {},
   "source": [
    "## 6"
   ]
  },
  {
   "cell_type": "code",
   "execution_count": null,
   "metadata": {},
   "outputs": [],
   "source": [
    "Представим, что вы планируете снять жилье в Берлине на 7 дней, используя более хитрые фильтры, чем предлагаются на сайте.\n",
    "\n",
    "В этой задаче можно потренироваться в написании подзапросов, но задание можно решить и без них.\n",
    "\n",
    "Отберите объявления из таблицы listings, которые:\n",
    "\n",
    "находятся на расстоянии от центра меньше среднего (здесь нам пригодится запрос из предыдущего задания)\n",
    "\n",
    "обойдутся дешевле 100$ в день (price с учетом cleaning_fee, который добавляется к общей сумме за неделю, \n",
    "                               т.е его нужно делить на кол-во дней)\n",
    "\n",
    "имеют последние отзывы (last_review), начиная с 1 сентября 2018 года\n",
    "\n",
    "имеют WiFi в списке удобств (amenities)\n",
    "\n",
    "Отсортируйте полученные значения по убыванию review_scores_rating (не забудьте перевести строку к численному виду) \n",
    "\n",
    "и в качестве ответа укажите host_id из первой строки. \n",
    "\n",
    "Hint: документация по функции multiSearchAnyCaseInsensitive(колонка, ['искомая_подстрока']), \n",
    "    \n",
    "    которая ищет заданную подстроку в строке вне зависимости от регистра и выдает 0 в случае, если подстрока не была найдена"
   ]
  },
  {
   "cell_type": "code",
   "execution_count": null,
   "metadata": {},
   "outputs": [],
   "source": [
    "WITH\n",
    "    (SELECT AVG(geoDistance(13.4050, 52.5200, toFloat64OrNull(longitude), toFloat64OrNull(latitude)))\n",
    "            FROM listings WHERE room_type  = 'Private room') AS avg_distance\n",
    " \n",
    "\n",
    "SELECT\n",
    "    id,\n",
    "    host_id,\n",
    "    geoDistance(13.4050, 52.5200, toFloat64OrNull(longitude), toFloat64OrNull(latitude)) AS distance,\n",
    "    ROUND(toFloat64OrNull(replaceRegexpAll(price, '[$,]', '')) + toFloat64OrNull(replaceRegexpAll(cleaning_fee, '[$,]', ''))/7 , 2) as PriceALL_1_day,\n",
    "    amenities,\n",
    "    last_review,\n",
    "    toFloat64OrNull(review_scores_rating) AS rating\n",
    "    \n",
    "FROM\n",
    "    listings\n",
    "WHERE\n",
    "        distance < avg_distance\n",
    "    AND room_type  = 'Private room'\n",
    "    AND PriceALL_1_day < 100\n",
    "    AND multiSearchAnyCaseInsensitive(amenities, ['WiFi']) = True\n",
    "    AND  last_review > '2018-09-01'\n",
    "\n",
    "ORDER BY  rating DESC\n",
    "LIMIT 100"
   ]
  },
  {
   "cell_type": "code",
   "execution_count": null,
   "metadata": {},
   "outputs": [],
   "source": [
    "28071741\t39740677\t2528.3916\t53.57\t{Wifi,Kitchen,Elevator,Heating,Washer,Dryer,\"Smoke detector\",\"Fire extinguisher\",Essentials,\"Lock on bedroom door\",Hangers,Iron,\"Private living room\",\"Coffee maker\",Refrigerator,Dishwasher,\"Dishes and silverware\",\"Cooking basics\",Oven,Stove,\"Patio or balcony\"}\n",
    "12967814\t41119131\t3603.6045\t82.29\t{TV,\"Cable TV\",Internet,Wifi,\"Air conditioning\",Kitchen,\"Pets live on this property\",Dog(s),\"Free street parking\",\"Indoor fireplace\",\"Buzzer/wireless intercom\",Heating,\"Family/kid friendly\",Washer,Dryer,\"Smoke detector\",\"Carbon monoxide detector\",\"First aid kit\",\"Fire extinguisher\",Essentials,Shampoo,Hangers,\"Hair dryer\",Iron,\"translation missing: en.hosting_amenity_49\",\"Private entrance\",\"Hot water\",\"Patio or balcony\",\"Luggage dropoff allowed\",\"Long term stays allowed\",\"Host greets you\"}\n",
    "5271228\t27285243\t4371.121\t50\t{Internet,Wifi,Kitchen,\"Pets allowed\",Heating,\"Family/kid friendly\",Washer,Essentials,Shampoo,\"Lock on bedroom door\",\"Hair dryer\",\"Laptop friendly workspace\",\"Hot water\",Other}\n",
    "329648\t1682922\t3645.9812\t50.14\t{TV,Internet,Wifi,Kitchen,\"Paid parking off premises\",\"Buzzer/wireless intercom\",Heating,Washer,Essentials,Shampoo,Hangers,\"Hair dryer\",Iron,\"Laptop friendly workspace\",Bathtub,\"Hot water\",\"Bed linens\",\"Extra pillows and blankets\",Refrigerator,Dishwasher,\"Dishes and silverware\",\"Cooking basics\",Oven,Stove,\"Single level home\",\"Patio or balcony\",\"Host greets you\"}\n",
    "28069928\t46659004\t3760.4146\t23\t{Wifi,Kitchen,\"Smoking allowed\",\"Free street parking\",Heating,Washer,\"First aid kit\",Essentials,Hangers,\"Laptop friendly workspace\",\"Hot water\",\"Bed linens\",\"Extra pillows and blankets\",Refrigerator,Dishwasher,\"Dishes and silverware\",\"Cooking basics\",Oven,Stove}\n",
    "11508748\t60635775\t2641.1787\t63.29\t{TV,Wifi,\"Paid parking off premises\",Elevator,Heating,Essentials,Shampoo,\"Lock on bedroom door\",Hangers,\"Hair dryer\",\"Laptop friendly workspace\",\"Hot water\",\"Bed linens\",\"Extra pillows and blankets\",Microwave,\"Coffee maker\",Refrigerator,Dishwasher,\"Dishes and silverware\",\"Patio or balcony\",\"Garden or backyard\",\"Luggage dropoff allowed\",\"Wide hallway clearance\",\"Step-free access\",\"Wide doorway\",\"Flat path to front door\",\"Well-lit path to entrance\",\"Step-free access\",\"Accessible-height bed\",\"Step-free access\",\"Accessible-height toilet\",\"Host greets you\",\"Handheld shower head\"}\n",
    "4246694\t7012464\t4469.4087\t34.14\t{Internet,Wifi,Kitchen,\"Smoking allowed\",\"Free street parking\",\"Buzzer/wireless intercom\",Heating,Washer,Essentials,Shampoo,Hangers,\"Hair dryer\",Iron,\"Hot water\",\"Bed linens\",\"Extra pillows and blankets\",\"Coffee maker\",Refrigerator,Dishwasher,\"Dishes and silverware\",\"Cooking basics\",Oven,Stove,\"Garden or backyard\",\"Host greets you\"}"
   ]
  },
  {
   "cell_type": "markdown",
   "metadata": {},
   "source": [
    "###### ОТВЕТ : 39740677"
   ]
  },
  {
   "cell_type": "markdown",
   "metadata": {},
   "source": [
    "## 7"
   ]
  },
  {
   "cell_type": "code",
   "execution_count": null,
   "metadata": {},
   "outputs": [],
   "source": [
    "Давайте найдем в таблице calendar_summary те доступные (available='t') объявления,\n",
    "\n",
    "у которых число отзывов от уникальных пользователей в таблице reviews выше среднего.\n",
    "\n",
    "NB! Для простоты будем считать, что отзыв — это уникальный посетитель на уникальное жилье,\n",
    "\n",
    "не учитывая возможные повторные отзывы от того же посетителя.\n",
    "\n",
    "Для этого с помощью конструкции WITH посчитайте среднее число уникальных reviewer_id из таблицы reviews на каждое жильё,\n",
    "\n",
    "потом проведите джойн таблиц calendar_summary и reviews по полю listing_id \n",
    "\n",
    "(при этом из таблицы calendar_summary должны быть отобраны уникальные listing_id, отфильтрованные по правилу available='t').\n",
    "\n",
    "Результат отфильтруйте так, чтобы остались только записи, у которых число отзывов от уникальных людей выше среднего.\n",
    "\n",
    "Отсортируйте результат по возрастанию listing_id и в качестве ответа впишите количество отзывов от уникальных пользователей \n",
    "\n",
    "из первой строки.\n",
    "\n",
    "Hint: для решения проблем со вложенными агрегационными функциями (и агрегационными функциями там, где их не ждут) \n",
    "\n",
    "как раз очень помогут подзапросы."
   ]
  },
  {
   "cell_type": "code",
   "execution_count": null,
   "metadata": {},
   "outputs": [],
   "source": [
    "WITH(SELECT AVG(Count_reviewer)\n",
    "    FROM (SELECT listing_id,COUNT(DISTINCT reviewer_id) AS Count_reviewer\n",
    "        FROM reviews\n",
    "        GROUP BY listing_id\n",
    "        ) \n",
    "    ) AS Avg_Count_reviewer\n",
    "\n",
    "SELECT DISTINCT(l.listing_id) AS listing_id,\n",
    "        COUNT(DISTINCT(r.reviewer_id)) AS Count_reviewer,\n",
    "        Avg_Count_reviewer\n",
    "FROM calendar_summary  AS l \n",
    "    LEFT JOIN reviews AS r\n",
    "    ON (l.listing_id = r.listing_id)\n",
    "WHERE available = 't'\n",
    "GROUP BY listing_id\n",
    "HAVING Count_reviewer > Avg_Count_reviewer\n",
    "ORDER BY listing_id\n",
    "LIMIT 100"
   ]
  },
  {
   "cell_type": "code",
   "execution_count": null,
   "metadata": {},
   "outputs": [],
   "source": [
    "# # ИЗ РАЗБОРА ПОМОЩЬ\n",
    "# WITH\n",
    "# (SELECT \n",
    "# \tAVG(column1)\n",
    "#  FROM \n",
    "# \t(SELECT \n",
    "# \t\t\tCOUNT(DISTINCT(column1)) AS column1,\n",
    "# \t\t\tcolumn2\n",
    "#    FROM \n",
    "# \t\t\ttable_name\n",
    "# \t GROUP BY \n",
    "# \t\t\tcolumn2)) AS alias"
   ]
  },
  {
   "cell_type": "code",
   "execution_count": null,
   "metadata": {},
   "outputs": [],
   "source": [
    "# ИЗ РАЗБОРА ПОМОЩЬ\n",
    "# WITH\n",
    "# (SELECT AVG(review_num) FROM (SELECT COUNT(DISTINCT(reviewer_id)) review_num, listing_id  FROM reviews GROUP BY listing_id)) AS avg_review\n",
    "# SELECT\n",
    "# listing_id,\n",
    "# review_num\n",
    "# FROM (\n",
    "# \tSELECT\n",
    "#     \tCOUNT(DISTINCT(reviewer_id)) review_num,\n",
    "#     \tlisting_id\n",
    "# \tFROM reviews\n",
    "# \tGROUP BY listing_id\n",
    "# \t) AS r\n",
    "# JOIN (\n",
    "# \tSELECT\n",
    "#     \tlisting_id\n",
    "# \tFROM calendar_summary\n",
    "# \tWHERE available='t' \n",
    "# GROUP BY listing_id\n",
    "# \t) AS c\n",
    "# ON\n",
    "# \tc.listing_id = r.listing_id\n",
    "# WHERE review_num > avg_review  \n",
    "# ORDER BY listing_id\n",
    "# LIMIT 10"
   ]
  },
  {
   "cell_type": "code",
   "execution_count": null,
   "metadata": {},
   "outputs": [],
   "source": [
    "2015\t118\t21.399077154201095\n",
    "3176\t142\t21.399077154201095\n",
    "3309\t25\t21.399077154201095\n",
    "7071\t195\t21.399077154201095\n",
    "14325\t23\t21.399077154201095\n",
    "16644\t48\t21.399077154201095\n",
    "17409\t275\t21.399077154201095\n",
    "17904\t218\t21.399077154201095"
   ]
  },
  {
   "cell_type": "markdown",
   "metadata": {},
   "source": [
    "##### ОТВЕТ: 118"
   ]
  },
  {
   "cell_type": "markdown",
   "metadata": {},
   "source": [
    "## 8"
   ]
  },
  {
   "cell_type": "code",
   "execution_count": null,
   "metadata": {},
   "outputs": [],
   "source": [
    "Возвращаемся к данными мобильного приложения!\n",
    "\n",
    "installs — содержит данные об установках приложения по дням.\n",
    "\n",
    "DeviceID — идентификатор устройства, на которое было установлено приложение;\n",
    "InstallationDate — дата установки приложения;\n",
    "InstallCost — цена установки приложения в рублях;\n",
    "Platform — платформа, на которой было установлено приложение (iOS/ Android);\n",
    "Source — источник установки приложения (магазин приложения/ рекламная система/ переход с сайта).\n",
    "events — содержит данные о том, как активно пользователи просматривают товары в приложении по дням.\n",
    "\n",
    "DeviceID — идентификатор устройства, на котором используется приложение;\n",
    "AppPlatform — платформа, на которой используется приложение (iOS/ Android);\n",
    "EventDate — дата, за которую собрана статистика;\n",
    "events — количество просмотров всех товаров за этот день у этого DeviceID.\n",
    "checks — содержит данные о покупках пользователей в приложении по дням\n",
    "\n",
    "UserID — идентификатор пользователя;\n",
    "Rub — суммарный чек пользователя на дату;\n",
    "BuyDate — дата, за которую собрана статистика.\n",
    " devices – чтобы просмотры и установки можно было объединить с покупками\n",
    "\n",
    "DeviceID — идентификатор устройства;\n",
    "UserID — идентификатор пользователя."
   ]
  },
  {
   "cell_type": "markdown",
   "metadata": {},
   "source": [
    "## 9"
   ]
  },
  {
   "cell_type": "code",
   "execution_count": null,
   "metadata": {},
   "outputs": [],
   "source": [
    "С помощью оператора CASE в SQL можно составлять условные конструкции, выполнять проверку условий и возвращать результат в зависимости от их выполнения. Самих условий под оператором WHEN может быть сколько угодно, конструкцию необходимо завершить оператором END. Структура выглядит следующим образом:\n",
    "\n",
    " \n",
    "\n",
    "Если у Вас есть вопросы, напишите сюда.\n",
    "\n",
    "SELECT \n",
    "    CASE\n",
    "        -- если значение в column_1 больше, чем в column_2, в новый столбец будет записана единичка\n",
    "        WHEN column_1 > column_2 THEN 1 \n",
    "        -- если значение в column_1 меньше, чем в column_2, в новый столбец будет записана двойка\n",
    "        WHEN column_1 < column_2 THEN 2\n",
    "        -- во всех остальных случаях – тройка\n",
    "        ELSE 3\n",
    "    END AS cond_1 -- END – завершаем конструкцию, а новый столбец называем cond_1\n",
    "FROM\n",
    "    table\n",
    "\n",
    "\n",
    "Какие из перечисленных условных конструкций составлены некорректно?"
   ]
  },
  {
   "cell_type": "markdown",
   "metadata": {},
   "source": [
    "###### ОТВЕТ:\n",
    "    WHERE price > 1000 THEN 'ok' ELSE 'not ok' END  - НЕ КОРРЕКТНО !!\n",
    "    \n",
    "    CASE WHEN price>1000 THEN 'ok' WHEN price<500 THEN 'not ok' ELSE 'normal' END - ЭТО ПРАВИЛЬНО !!\n",
    "    \n",
    "    CASE WHEN price > 1000 THEN 'ok' ELSE 'not ok'  - НЕ КОРРЕКТНО !!\n",
    "    "
   ]
  },
  {
   "cell_type": "markdown",
   "metadata": {},
   "source": [
    "## 10"
   ]
  },
  {
   "cell_type": "code",
   "execution_count": null,
   "metadata": {},
   "outputs": [],
   "source": [
    "Теперь задача! Используйте таблицу checks и разделите всех покупателей на сегменты:\n",
    "\n",
    "NB! Правые границы берутся не включительно, например, чек в 10 рублей будет относиться к сегменту С\n",
    "\n",
    "А — средний чек покупателя менее 5 ₽\n",
    "B — средний чек покупателя от 5-10 ₽\n",
    "C — средний чек покупателя от 10-20 ₽\n",
    "D — средний чек покупателя от 20 ₽\n",
    "Отсортируйте результирующую таблицу по возрастанию UserID и укажите сегмент четвертого пользователя."
   ]
  },
  {
   "cell_type": "code",
   "execution_count": null,
   "metadata": {},
   "outputs": [],
   "source": [
    "SELECT UserID,\n",
    "    CASE\n",
    "        WHEN mean_rub < 5 THEN 'A'\n",
    "        WHEN mean_rub < 10 THEN 'B'\n",
    "        WHEN mean_rub < 20 THEN 'C'\n",
    "        ELSE 'D'\n",
    "    END AS segment \n",
    "FROM\n",
    "    (SELECT UserID,\n",
    "                AVG(Rub) AS mean_rub\n",
    "    FROM checks\n",
    "    GROUP BY  UserID\n",
    "    ) \n",
    "    \n",
    "ORDER BY UserID\n",
    "LIMIT 10"
   ]
  },
  {
   "cell_type": "code",
   "execution_count": null,
   "metadata": {},
   "outputs": [],
   "source": [
    "1406814346437\tA\n",
    "3116519148596\tB\n",
    "3827093218449\tB\n",
    "4301734536835\tC\n",
    "9820728992879\tA\n",
    "10995267265098\tA\n",
    "13652596829677\tA\n",
    "20964545223437\tA"
   ]
  },
  {
   "cell_type": "code",
   "execution_count": null,
   "metadata": {},
   "outputs": [],
   "source": [
    "# Этот вариант кажется проще )) тоже мой придумал опосля\n",
    "SELECT UserID,\n",
    "    AVG(Rub),\n",
    "    CASE\n",
    "        WHEN AVG(Rub) < 5 THEN 'A'\n",
    "        WHEN AVG(Rub) < 10 THEN 'B'\n",
    "        WHEN AVG(Rub) < 20 THEN 'C'\n",
    "        ELSE 'D'\n",
    "    END AS segment \n",
    "FROM checks\n",
    "GROUP BY UserID\n",
    "ORDER BY UserID\n",
    "LIMIT 10"
   ]
  },
  {
   "cell_type": "code",
   "execution_count": null,
   "metadata": {},
   "outputs": [],
   "source": [
    "1406814346437\t3.5\tA\n",
    "3116519148596\t5\tB\n",
    "3827093218449\t5.5\tB\n",
    "4301734536835\t10\tC\n",
    "9820728992879\t1\tA\n",
    "10995267265098\t0\tA"
   ]
  },
  {
   "cell_type": "markdown",
   "metadata": {},
   "source": [
    "##### ОТВЕТ: C"
   ]
  },
  {
   "cell_type": "markdown",
   "metadata": {},
   "source": [
    "## 11"
   ]
  },
  {
   "cell_type": "code",
   "execution_count": null,
   "metadata": {},
   "outputs": [],
   "source": [
    "Используйте предыдущий запрос как подзапрос и посчитайте, \n",
    "\n",
    "сколько клиентов приходится на каждый сегмент и сколько доходов он приносит. \n",
    "\n",
    "Отсортируйте результат по убыванию суммы доходов на сегмент и в качестве ответа укажите наибольшую сумму."
   ]
  },
  {
   "cell_type": "code",
   "execution_count": null,
   "metadata": {},
   "outputs": [],
   "source": [
    "SELECT r.segment,\n",
    "        SUM(l.Rub) AS SUM_segment\n",
    "FROM checks AS l\n",
    "JOIN\n",
    "    (SELECT UserID,\n",
    "        AVG(Rub),\n",
    "        CASE\n",
    "            WHEN AVG(Rub) < 5 THEN 'A'\n",
    "            WHEN AVG(Rub) < 10 THEN 'B'\n",
    "            WHEN AVG(Rub) < 20 THEN 'C'\n",
    "            ELSE 'D'\n",
    "        END AS segment \n",
    "    FROM checks\n",
    "    GROUP BY UserID\n",
    "    ) AS r\n",
    "ON l.UserID = r.UserID\n",
    "GROUP BY r.segment\n",
    "ORDER BY SUM_segment DESC"
   ]
  },
  {
   "cell_type": "code",
   "execution_count": null,
   "metadata": {},
   "outputs": [],
   "source": [
    "# Добавил COUNT(l.UserID) AS Count_UserID,\n",
    "# SELECT r.segment,\n",
    "#         COUNT(l.UserID) AS Count_UserID,\n",
    "#         SUM(l.Rub) AS SUM_segment\n",
    "# FROM checks AS l\n",
    "# JOIN\n",
    "#     (SELECT UserID,\n",
    "#         AVG(Rub),\n",
    "#         CASE\n",
    "#             WHEN AVG(Rub) < 5 THEN 'A'\n",
    "#             WHEN AVG(Rub) < 10 THEN 'B'\n",
    "#             WHEN AVG(Rub) < 20 THEN 'C'\n",
    "#             ELSE 'D'\n",
    "#         END AS segment \n",
    "#     FROM checks\n",
    "#     GROUP BY UserID\n",
    "#     ) AS r\n",
    "# ON l.UserID = r.UserID\n",
    "# GROUP BY r.segment\n",
    "# ORDER BY SUM_segment DESC"
   ]
  },
  {
   "cell_type": "code",
   "execution_count": null,
   "metadata": {},
   "outputs": [],
   "source": [
    "D\t250551286\n",
    "C\t223388252\n",
    "B\t72257465\n",
    "A\t65057410"
   ]
  },
  {
   "cell_type": "markdown",
   "metadata": {},
   "source": [
    "###### ОТВЕТ : 250551286"
   ]
  },
  {
   "cell_type": "markdown",
   "metadata": {},
   "source": [
    "## 12"
   ]
  },
  {
   "cell_type": "code",
   "execution_count": null,
   "metadata": {},
   "outputs": [],
   "source": [
    "Вернемся к таблице AirBnb. Предположим, что в выборе жилья нас интересует только два параметра: \n",
    "    \n",
    "наличие кухни (kitchen) и гибкой системы отмены (flexible), причем первый в приоритете.\n",
    "\n",
    "Создайте с помощью оператора CASE колонку с обозначением группы, в которую попадает жилье из таблицы listings:\n",
    "\n",
    "'good', если в удобствах (amenities) присутствует кухня и система отмены (cancellation_policy) гибкая\n",
    "'ok', если в удобствах есть кухня, но система отмены не гибкая\n",
    "'not ok' во всех остальных случаях\n",
    "Результат отсортируйте по новой колонке по возрастанию, установите ограничение в 5 строк, \n",
    "\n",
    "в качестве ответа укажите host_id первой строки.\n",
    "\n",
    "Обратите внимание, что cancellation_policy - это отдельная колонка, по ней необходимо смотреть систему отмены\n",
    "\n",
    "Hint: документация по функции multiSearchAnyCaseInsensitive(колонка, ['искомая_подстрока'])"
   ]
  },
  {
   "cell_type": "code",
   "execution_count": null,
   "metadata": {},
   "outputs": [],
   "source": [
    "SELECT host_id,\n",
    "    CASE\n",
    "        WHEN multiSearchAnyCaseInsensitive(amenities, ['kitchen']) = True\n",
    "        AND multiSearchAnyCaseInsensitive(cancellation_policy, ['flexible']) = True THEN 'good' \n",
    "        WHEN multiSearchAnyCaseInsensitive(amenities, ['kitchen']) = True \n",
    "        AND multiSearchAnyCaseInsensitive(cancellation_policy, ['flexible']) = 0 THEN 'ok'\n",
    "        ELSE 'not ok'\n",
    "    END AS Good_Ok_Not \n",
    "FROM\n",
    "    listings\n",
    "\n",
    "ORDER BY Good_Ok_Not ASC\n",
    "\n",
    "LIMIT 5"
   ]
  },
  {
   "cell_type": "code",
   "execution_count": null,
   "metadata": {},
   "outputs": [],
   "source": [
    "27607502\tgood\n",
    "75398823\tgood\n",
    "10780623\tgood\n",
    "6637229\tgood\n",
    "199462820\tgood"
   ]
  },
  {
   "cell_type": "markdown",
   "metadata": {},
   "source": [
    "###### ОТВЕТ: 27607502"
   ]
  }
 ],
 "metadata": {
  "kernelspec": {
   "display_name": "Python 3",
   "language": "python",
   "name": "python3"
  },
  "language_info": {
   "codemirror_mode": {
    "name": "ipython",
    "version": 3
   },
   "file_extension": ".py",
   "mimetype": "text/x-python",
   "name": "python",
   "nbconvert_exporter": "python",
   "pygments_lexer": "ipython3",
   "version": "3.7.3"
  }
 },
 "nbformat": 4,
 "nbformat_minor": 4
}
