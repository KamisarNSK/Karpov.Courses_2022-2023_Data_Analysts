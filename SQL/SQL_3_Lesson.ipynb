{
 "cells": [
  {
   "cell_type": "markdown",
   "metadata": {},
   "source": [
    "# 3 УРОК\n",
    "\n",
    "ОБЪЕДИНЕНИЕ ТАБЛИЦ – JOIN"
   ]
  },
  {
   "cell_type": "markdown",
   "metadata": {},
   "source": [
    "## ШАГ 4\n",
    "\n",
    "У пользователя может быть два идентификатора – UserID и DeviceID. В таблице checks есть только UserID, в остальных – только DeviceID. Во вспомогательной таблице devices есть и UserID, и DeviceID. \n",
    "\n",
    "Давайте с помощью JOIN дополним таблицу events (left) данными о UserID пользователей из таблицы devices (right). Для некоторых DeviceID не будет пары UserID из таблицы devices – подумайте, какой вид JOIN подойдет, чтобы не потерять те строки, где DeviceID есть в events, но нет в devices.\n",
    "\n",
    "Укажите UserID из первой строки результирующей таблицы, используя сортировку по убыванию по полю DeviceID.\n",
    "\n",
    "Подсказки"
   ]
  },
  {
   "cell_type": "code",
   "execution_count": null,
   "metadata": {},
   "outputs": [],
   "source": [
    "SELECT *\n",
    "FROM events as l\n",
    "LEFT JOIN \n",
    "    default.devices as r\n",
    "    ON l.DeviceID = r.DeviceID\n",
    "\n",
    "ORDER BY l.DeviceID DESC\n",
    "LIMIT 12"
   ]
  },
  {
   "cell_type": "markdown",
   "metadata": {},
   "source": [
    "##### ОТВЕТ : 8158889386484182099"
   ]
  },
  {
   "cell_type": "markdown",
   "metadata": {},
   "source": [
    "## ШАГ 5\n",
    "### Давайте проверим, пользователи пришедшие из какого источника совершили наибольшее число покупок. В качестве ответа выберите название Source, юзеры которого совершили больше всего покупок.\n",
    "\n",
    "Hint: Для этого используйте UserID, DeviceID и Source из соответствующих таблиц. Считать уникальные значения здесь не нужно. Также заметьте, что покупки со стоимостью 0 рублей всё ещё считаются покупками."
   ]
  },
  {
   "cell_type": "markdown",
   "metadata": {},
   "source": [
    "SELECT Source,\n",
    "    COUNT(Source) AS Count_Sourse\n",
    "FROM \n",
    "(\n",
    "SELECT \n",
    "    l.DeviceID AS DeviceID,\n",
    "    c.Source AS Source,\n",
    "    r.UserID AS UserID\n",
    "FROM events AS l\n",
    "LEFT JOIN devices AS r\n",
    "    ON l.DeviceID = r.DeviceID\n",
    "JOIN installs as c\n",
    "    ON l.DeviceID = c.DeviceID\n",
    "ORDER BY DeviceID DESC\n",
    "--LIMIT 100\n",
    ")\n",
    "GROUP BY Source\n",
    "ORDER BY Count_Sourse DESC\n",
    "LIMIT 100"
   ]
  },
  {
   "cell_type": "markdown",
   "metadata": {},
   "source": [
    "#### ИЗ РАЗБОРА"
   ]
  },
  {
   "cell_type": "code",
   "execution_count": null,
   "metadata": {},
   "outputs": [],
   "source": [
    "SELECT \n",
    "    \n",
    "    l.Source AS Source_,\n",
    "    COUNT(*) AS SELL_Count\n",
    "FROM installs AS l\n",
    "    JOIN devices AS r\n",
    "        ON l.DeviceID = r.DeviceID\n",
    "    JOIN checks as c\n",
    "    ON c.UserID = r.UserID\n",
    "GROUP BY Source_\n",
    "ORDER BY SELL_Count DESC\n"
   ]
  },
  {
   "cell_type": "markdown",
   "metadata": {},
   "source": [
    "##### Ответы сошлись но  количества совершенно разные"
   ]
  },
  {
   "cell_type": "markdown",
   "metadata": {},
   "source": [
    "#### Ответ Source_27"
   ]
  },
  {
   "cell_type": "markdown",
   "metadata": {},
   "source": [
    "## ШАГ 6\n",
    "### Теперь выясним, сколько всего уникальных юзеров совершили покупки в нашем приложении.\n",
    "\n",
    "Объедините нужные таблицы, посчитайте число уникальных UserID для каждого источника (Source), и в качестве ответа укажите число пользователей, пришедших из Source_7.\n",
    "\n",
    "Hint: checks – покупки, devices – соответствие, installs – информация об источнике.\n",
    "\n",
    "Подсказки\n",
    "\n",
    "ВАЖНОЕ ЗАМЕЧАНИЕ!\n",
    "\n",
    "Если вы делаете задание через REDASH, убедитесь, что в ответ вносите значение без запятых между порядками числа ( 9,424,234.05 -> 9424234.05 )"
   ]
  },
  {
   "cell_type": "code",
   "execution_count": null,
   "metadata": {},
   "outputs": [],
   "source": [
    "SELECT Source,\n",
    "    COUNT(DISTINCT UserID)\n",
    "FROM\n",
    "(\n",
    "SELECT \n",
    "    r.DeviceID AS DeviceID,\n",
    "    c.Source AS Source,\n",
    "    r.UserID AS UserID\n",
    "FROM checks AS l\n",
    "    JOIN devices AS r\n",
    "    ON l.UserID = r.UserID\n",
    "JOIN installs as c\n",
    "    ON r.DeviceID = c.DeviceID\n",
    "ORDER BY DeviceID DESC\n",
    "--LIMIT 100\n",
    ")\n",
    "GROUP BY Source\n",
    "LIMIT 100"
   ]
  },
  {
   "cell_type": "markdown",
   "metadata": {},
   "source": [
    "#### из разбора"
   ]
  },
  {
   "cell_type": "code",
   "execution_count": null,
   "metadata": {},
   "outputs": [],
   "source": [
    "SELECT \n",
    "    \n",
    "    l.Source AS Source_,\n",
    "    uniqExact(c.UserID)\n",
    "FROM installs AS l\n",
    "    JOIN devices AS r\n",
    "        ON l.DeviceID = r.DeviceID\n",
    "    JOIN checks as c\n",
    "    ON c.UserID = r.UserID\n",
    "GROUP BY Source_"
   ]
  },
  {
   "cell_type": "markdown",
   "metadata": {},
   "source": [
    "#### ответы одинаковые"
   ]
  },
  {
   "cell_type": "markdown",
   "metadata": {},
   "source": [
    "##### ОТВЕТ 11432"
   ]
  },
  {
   "cell_type": "markdown",
   "metadata": {},
   "source": [
    "## ШАГ 7\n",
    "Самое время посмотреть на общую выручку, а также минимальный, максимальный и средний чек. Рассчитайте нужные показатели и соотнесите полученные значения:\n",
    "\n"
   ]
  },
  {
   "cell_type": "code",
   "execution_count": null,
   "metadata": {},
   "outputs": [],
   "source": [
    "SELECT Source,\n",
    "    SUM(Rub) AS revenue,\n",
    "    MAX(Rub) AS MAX_check,\n",
    "    MIN(Rub) AS MIN_check,\n",
    "    AVG(Rub) AS AVG_check\n",
    "FROM\n",
    "(\n",
    "SELECT \n",
    "    l.Rub AS Rub,\n",
    "    r.DeviceID AS DeviceID,\n",
    "    c.Source AS Source,\n",
    "    r.UserID AS UserID\n",
    "FROM checks AS l\n",
    "    JOIN devices AS r\n",
    "    ON l.UserID = r.UserID\n",
    "JOIN installs as c\n",
    "    ON r.DeviceID = c.DeviceID\n",
    "ORDER BY DeviceID DESC\n",
    "--LIMIT 100\n",
    ")\n",
    "GROUP BY Source\n",
    "LIMIT 100\n",
    "--HAVING Source = 'Source_20'"
   ]
  },
  {
   "cell_type": "markdown",
   "metadata": {},
   "source": [
    "#### ИЗ разбора"
   ]
  },
  {
   "cell_type": "code",
   "execution_count": null,
   "metadata": {},
   "outputs": [],
   "source": [
    "SELECT \n",
    "    \n",
    "    l.Source AS Source_,\n",
    "    SUM(Rub) AS revenue,\n",
    "    MAX(Rub) AS MAX_check,\n",
    "    MIN(Rub) AS MIN_check,\n",
    "    AVG(Rub) AS AVG_check\n",
    "FROM installs AS l\n",
    "    JOIN devices AS r\n",
    "        ON l.DeviceID = r.DeviceID\n",
    "    JOIN checks as c\n",
    "    ON c.UserID = r.UserID\n",
    "GROUP BY Source_"
   ]
  },
  {
   "cell_type": "markdown",
   "metadata": {},
   "source": [
    "#### выводы одинаковые..."
   ]
  },
  {
   "cell_type": "markdown",
   "metadata": {},
   "source": [
    "##### ОТВЕТ\n",
    "Максимальный чек пользователей из Source_14 38189\n",
    "\n",
    "Общая сумма денег, полученная от пользователей Source_1 74\n",
    "\n",
    "Общая выручка для Source_13 2752\n",
    "\n",
    "Максимальная сумма заказа среди пользователей из Source_10 10\n",
    "\n",
    "Средний чек пользователей Source_21 5.5555556\n"
   ]
  },
  {
   "cell_type": "markdown",
   "metadata": {},
   "source": [
    "## ШАГ 8\n",
    "#### Выведите идентификаторы устройств пользователей, которые совершили как минимум одну покупку за последний месяц (октябрь 2019). Используйте сортировку по возрастанию DeviceID и укажите минимальное значение.\n",
    "\n",
    "Hint: для извлечения месяца из даты можно использовать toMonth() или  toStartOfMonth(), предварительно приведя BuyDate к типу date."
   ]
  },
  {
   "cell_type": "code",
   "execution_count": null,
   "metadata": {},
   "outputs": [],
   "source": [
    "SELECT \n",
    "    toStartOfMonth(CAST(l.BuyDate AS DateTime)) AS BuyMonth,\n",
    "    l.Rub AS Rub,\n",
    "    r.DeviceID AS DeviceID\n",
    "    --c.Source AS Source\n",
    "    --l.UserID AS UserID\n",
    "FROM checks AS l\n",
    "    JOIN devices AS r\n",
    "    ON l.UserID = r.UserID\n",
    "WHERE Rub > 0 AND BuyMonth = '2019-10-01'\n",
    "\n",
    "ORDER BY  DeviceID \n",
    "LIMIT 100"
   ]
  },
  {
   "cell_type": "markdown",
   "metadata": {},
   "source": [
    "#### из разбора"
   ]
  },
  {
   "cell_type": "code",
   "execution_count": null,
   "metadata": {},
   "outputs": [],
   "source": [
    "SELECT *\n",
    "   \n",
    "FROM checks AS l\n",
    "    JOIN devices AS r\n",
    "    ON l.UserID = r.UserID\n",
    "WHERE toStartOfMonth(CAST(l.BuyDate AS DateTime)) = '2019-10-01'\n",
    "\n",
    "ORDER BY  DeviceID \n",
    "LIMIT 10"
   ]
  },
  {
   "cell_type": "markdown",
   "metadata": {},
   "source": [
    "#### ОТВЕТ 22374478679519"
   ]
  },
  {
   "cell_type": "markdown",
   "metadata": {},
   "source": [
    "## ШАГ 9\n",
    "Проверим, сколько товаров (events) в среднем просматривают пользователи с разных платформ (Platform), и пришедшие из разных источников  (Source). Для этого объедините таблицы events и installs, и посчитайте, сколько просмотров в среднем приходится на каждую пару платформа-канал привлечения.\n",
    "\n",
    "Отсортируйте полученную табличку по убыванию среднего числа просмотров. В качестве ответа укажите платформу и источник, пользователи которого в среднем просматривали товары бóльшее число раз."
   ]
  },
  {
   "cell_type": "code",
   "execution_count": null,
   "metadata": {},
   "outputs": [],
   "source": [
    "SELECT \n",
    "    r.Platform AS Platform,\n",
    "    r.Source AS Source,\n",
    "    AVG(events) AS AVG_events\n",
    "FROM events AS l\n",
    "    JOIN installs AS r\n",
    "    ON l.DeviceID = r.DeviceID\n",
    "GROUP BY Platform, Source\n",
    "ORDER BY  AVG_events DESC \n",
    "LIMIT 100"
   ]
  },
  {
   "cell_type": "markdown",
   "metadata": {},
   "source": [
    "#### ОТВЕТ\n",
    "Платформа IOS номер источника 20"
   ]
  },
  {
   "cell_type": "markdown",
   "metadata": {},
   "source": [
    "## ШАГ 10\n",
    "#### Давайте посчитаем число уникальных DeviceID в инсталлах, для которых присутствуют просмотры в таблице events с разбивкой по платформам (поле Platform). Для этого можно отобрать все строки только из таблицы installs, для которых нашлось соответствие в таблице events. \n",
    "\n",
    "В качестве ответа введите число инсталлов, для которых нашлись просмотры, на платформе android.\n",
    "\n",
    "Внимание! \"Нашлось 0 просмотров\" тоже считается как \"нашлись просмотры\". Главное, чтобы не было именно пропуска."
   ]
  },
  {
   "cell_type": "code",
   "execution_count": null,
   "metadata": {},
   "outputs": [],
   "source": [
    "SELECT \n",
    "    r.Platform AS Platform,\n",
    "    COUNT(DISTINCT(r.DeviceID)) AS COUNT_DeviceID   \n",
    "FROM events AS l\n",
    "    JOIN installs AS r\n",
    "    ON l.DeviceID = r.DeviceID\n",
    "GROUP BY Platform\n",
    "LIMIT 100"
   ]
  },
  {
   "cell_type": "markdown",
   "metadata": {},
   "source": [
    "### ИЗ разбора"
   ]
  },
  {
   "cell_type": "code",
   "execution_count": null,
   "metadata": {},
   "outputs": [],
   "source": [
    "SELECT \n",
    "    r.Platform AS Platform,\n",
    "    COUNT(DISTINCT(r.DeviceID)) AS COUNT_DeviceID   \n",
    "FROM installs AS r\n",
    "LEFT SEMI JOIN events AS l \n",
    "    ON l.DeviceID = r.DeviceID\n",
    "GROUP BY Platform\n",
    "LIMIT 100"
   ]
  },
  {
   "cell_type": "markdown",
   "metadata": {},
   "source": [
    "#### Одинаково"
   ]
  },
  {
   "cell_type": "markdown",
   "metadata": {},
   "source": [
    "#### Разьяснения от Support с курсов\n",
    "\n",
    "Добрый день! Не совсем так. Если у нас такая ситуация, что значениям колонки в левой таблице соответствует несколько значений из правой, то LEFT SEMI JOIN вернет только одну строку из левой таблицы, в то время как INNER JOIN вернет столько строк, сколько найдет соответствий в правой таблице. \n",
    "Здесь у вас нет разницы, так как выполнена группировка и в любом случае вы считаете все уникальные девайс айди на каждую платформу, поэтому в данной задаче действительно не так принципиально, какой джойн использовать."
   ]
  },
  {
   "cell_type": "markdown",
   "metadata": {},
   "source": [
    "#### Ответ\n",
    "\n",
    "9051220"
   ]
  },
  {
   "cell_type": "markdown",
   "metadata": {},
   "source": [
    "## ШАГ 11\n",
    "#### Давайте теперь посчитаем конверсию из инсталла в просмотр с разбивкой по платформе инсталла – в данном случае это доля DeviceID, для которых есть просмотры, от всех DeviceID в инсталлах. \n",
    "\n",
    "Для этого нужно объединить таблицы installs и events так, чтобы получить все DeviceID инсталлов и соответствующие им DeviceID из events, посчитать число уникальных DeviceID инсталлов (1) и соответствующих DeviceID из events (2) и вычислить долю (2) от (1). В качестве ответа укажите значение конверсии из инсталла в просмотр на платформе ios. \n",
    "\n",
    "Внимание: ответ указать не в процентах, а именно в виде доли (т.е. не нужно домножать полученный ответ на 100). "
   ]
  },
  {
   "cell_type": "code",
   "execution_count": null,
   "metadata": {},
   "outputs": [],
   "source": [
    "SELECT \n",
    "    r.Platform AS Platform,\n",
    "    COUNT(DISTINCT(r.DeviceID)) AS COUNT_DeviceID_INST,\n",
    "    COUNT(DISTINCT(l.DeviceID)) AS COUNT_DeviceID_EVEN,\n",
    "    COUNT_DeviceID_EVEN/COUNT_DeviceID_INST AS CTR\n",
    "FROM events AS l\n",
    "    RIGHT JOIN installs AS r\n",
    "    ON l.DeviceID = r.DeviceID\n",
    "GROUP BY Platform\n",
    "LIMIT 100"
   ]
  },
  {
   "cell_type": "markdown",
   "metadata": {},
   "source": [
    "#### из разбора (ПОЧЕМУ то не разбил по платформам)"
   ]
  },
  {
   "cell_type": "code",
   "execution_count": null,
   "metadata": {},
   "outputs": [],
   "source": [
    "SELECT \n",
    "    uniqExact(l.DeviceID)/uniqExact(r.DeviceID )\n",
    "    \n",
    "FROM events AS l\n",
    "    RIGHT JOIN installs AS r\n",
    "    ON l.DeviceID = r.DeviceID\n",
    "--GROUP BY Platform\n",
    "--LIMIT 100"
   ]
  },
  {
   "cell_type": "markdown",
   "metadata": {},
   "source": [
    "0.983182191473886"
   ]
  },
  {
   "cell_type": "code",
   "execution_count": 2,
   "metadata": {},
   "outputs": [
    {
     "data": {
      "text/plain": [
       "0.983182191473886"
      ]
     },
     "execution_count": 2,
     "metadata": {},
     "output_type": "execute_result"
    }
   ],
   "source": [
    "2031629/2066381"
   ]
  },
  {
   "cell_type": "markdown",
   "metadata": {},
   "source": [
    "#### Ответ : 0.983182191473886\n"
   ]
  },
  {
   "cell_type": "markdown",
   "metadata": {},
   "source": [
    "## ШАГ 12\n",
    "### Представим, что в логирование DeviceID в событиях закралась ошибка - часть ID была записана в базу некорректно. Это привело к тому, что в таблице с событиями появились DeviceID, для которых нет инсталлов. Нам надо отобрать примеры DeviceID из таблицы event, которых нет в таблице installs, чтобы отправить их команде разработчиков на исправление. \n",
    "\n",
    "Выведите 10 уникальных DeviceID, которые присутствуют в таблице events, но отсутствуют в installs, отсортировав их в порядке убывания. В качестве ответа введите первый DeviceID из списка.  "
   ]
  },
  {
   "cell_type": "code",
   "execution_count": null,
   "metadata": {},
   "outputs": [],
   "source": [
    "SELECT l.DeviceID AS DeviceID\n",
    "    \n",
    "FROM events AS l\n",
    "    LEFT ANTI JOIN installs AS r\n",
    "    ON l.DeviceID = r.DeviceID\n",
    "\n",
    "ORDER BY DeviceID DESC\n",
    "LIMIT 10"
   ]
  },
  {
   "cell_type": "markdown",
   "metadata": {},
   "source": [
    "###### ОТВЕТ\n",
    "18446741643567719656"
   ]
  },
  {
   "cell_type": "code",
   "execution_count": null,
   "metadata": {},
   "outputs": [],
   "source": [
    "Там это ID много раз"
   ]
  },
  {
   "cell_type": "code",
   "execution_count": 2,
   "metadata": {},
   "outputs": [
    {
     "data": {
      "text/plain": [
       "18446744073709551616"
      ]
     },
     "execution_count": 2,
     "metadata": {},
     "output_type": "execute_result"
    }
   ],
   "source": [
    "2**64"
   ]
  }
 ],
 "metadata": {
  "kernelspec": {
   "display_name": "Python 3",
   "language": "python",
   "name": "python3"
  },
  "language_info": {
   "codemirror_mode": {
    "name": "ipython",
    "version": 3
   },
   "file_extension": ".py",
   "mimetype": "text/x-python",
   "name": "python",
   "nbconvert_exporter": "python",
   "pygments_lexer": "ipython3",
   "version": "3.7.3"
  }
 },
 "nbformat": 4,
 "nbformat_minor": 4
}
