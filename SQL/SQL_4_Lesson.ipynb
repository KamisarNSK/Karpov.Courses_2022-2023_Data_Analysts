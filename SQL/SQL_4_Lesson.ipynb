{
 "cells": [
  {
   "cell_type": "markdown",
   "metadata": {},
   "source": [
    "# 4 УРОК\n",
    "\n",
    "ТИПЫ ДАННЫХ И ИХ ПРЕОБРАЗОВАНИЕ"
   ]
  },
  {
   "cell_type": "markdown",
   "metadata": {},
   "source": [
    "## ШАГ 3\n",
    "### Далее в заданиях используются данные с платформы Airbnb в Берлине ✈️.\n",
    "\n",
    "Note: Как зайти в ClickHouse. Если таблицы не видны в списке – попробуйте выйти и зайти ещё раз.\n",
    "\n",
    "Имеются следующие таблицы:\n",
    "\n",
    "1. listings – информация о жилье, включая полные описания, характеристики и средние оценки в отзывах; поскольку столбцов очень много, нужные перечислены в текстах самих задач\n",
    "\n",
    "2. calendar_summary – информация о доступности и цене того или иного жилья по дням\n",
    "\n",
    "listing_id – идентификатор жилья (объявления)\n",
    "\n",
    "date – дата\n",
    "\n",
    "available – доступность жилья в данный день (t/f)\n",
    "\n",
    "price – цена за ночь\n",
    "\n",
    "3. reviews – отзывы\n",
    "\n",
    "listing_id –  идентификатор жилья  \n",
    "\n",
    "id – id отзыва\n",
    "\n",
    "date – дата отзыва\n",
    "\n",
    "reviewer_id – id ревьюера (автора отзыва)\n",
    "\n",
    "reviewer_name – имя автора\n",
    "\n",
    "comments – сам отзыв"
   ]
  },
  {
   "cell_type": "markdown",
   "metadata": {},
   "source": [
    "## ШАГ 4\n",
    "На Airbnb есть две основные группы пользователей:\n",
    "\n",
    "Хозяева (хосты, hosts) – сдают жилье\n",
    "\n",
    "Путешественники (travelers) – снимают\n",
    "\n",
    "Начнем с анализа характеристик хозяев в таблице listings! \n",
    "\n",
    "Пользователи, сдающие квартиры на Airbnb, зарегистрировались в разное время. Кто-то – очень давно, а кто-то совсем недавно.\n",
    "\n",
    "Давайте проверим, в какой месяц и год зарегистрировалось наибольшее количество новых хостов. В качестве ответа введите дату \n",
    "\n",
    "следующего формата: 2010-12\n",
    "\n",
    "host_id – идентификатор хозяина\n",
    "\n",
    "host_since – дата регистрации как хост\n",
    "\n",
    "Note: Сам хост может встретиться в таблице несколько раз, если сдает несколько помещений, поэтому не забудьте оставить\n",
    "\n",
    "уникальные значения host_id. Также обратите внимание на тип данных в host_since, возможно вам пригодится toStartOfMonth() для\n",
    "\n",
    "извлечения части даты и toDateOrNull() для обработки пустых значений."
   ]
  },
  {
   "cell_type": "code",
   "execution_count": null,
   "metadata": {},
   "outputs": [],
   "source": [
    "SELECT COUNT(DISTINCT(host_id)) AS COUNT_HOST_id,\n",
    "        toStartOfMonth(toDateOrNull(host_since)) AS Houst_since\n",
    "       \n",
    "\n",
    "FROM listings\n",
    "GROUP BY Houst_since\n",
    "\n",
    "ORDER BY COUNT_HOST_id DESC\n",
    "LIMIT 10"
   ]
  },
  {
   "cell_type": "markdown",
   "metadata": {},
   "source": [
    "525\t2015-07-01\n",
    "494\t2015-08-01\n",
    "403\t2014-08-01\n",
    "403\t2014-07-01\n",
    "377\t2015-06-01\n",
    "363\t2014-09-01\n",
    "356\t2015-09-01\n",
    "350\t2015-05-01\n",
    "328\t2015-12-01\n",
    "327\t2016-03-01"
   ]
  },
  {
   "cell_type": "markdown",
   "metadata": {},
   "source": [
    "#### ОТВЕТ : 2015-07"
   ]
  },
  {
   "cell_type": "markdown",
   "metadata": {},
   "source": [
    "## ШАГ 5\n",
    "Посмотрим на среднюю частоту ответа среди хозяев (f) и суперхозяев (t).\n",
    "\n",
    "Значения частоты ответа хранятся как строки и включают значок %, который необходимо заменить на пустоту (''). \n",
    "\n",
    "После этого приведите столбец к нужному типу данных с помощью toInt32OrNull() и посчитайте среднюю частоту отклика в разбивке \n",
    "\n",
    "по тому, является ли хост суперхозяином или нет. В качестве ответа укажите наибольшее среднее.\n",
    "\n",
    "host_response_rate – частота ответа\n",
    "\n",
    "host_is_superhost – является ли суперхозяином\n",
    "\n",
    "Важный момент: у каждого host_id есть только одно уникальное значение частоты ответа, а также одна единая отметка суперхозяина.\n",
    "\n",
    "Чтобы посчитать показатели честно, нужно использовать подзапрос и взять уникальные комбинации с помощью DISTINCT. Примерная\n",
    "\n",
    "структура финального запроса:\n",
    "\n",
    "SELECT\n",
    "    ... -- перечисляем все нужные колонки и операции\n",
    "    \n",
    "FROM (\n",
    "    SELECT \n",
    "        DISTINCT column_1,\n",
    "        column_2,\n",
    "        column_3\n",
    "    FROM \n",
    "        table_name) AS sub -- в подзапросе выбираем уникальные значения строк по интересующим колонкам\n",
    "... -- не забываем LIMIT, сортировку и вот это вот всё\n",
    "\n",
    "\n",
    "Пригодятся:\n",
    "\n",
    "replaceAll(столбец, что_заменить, на_что_заменить) – замена значений в колонке\n",
    "\n",
    "toIntOrNull(столбец)\n",
    "\n",
    "Суперхозяева — опытные хозяева с отличными отзывами. В задаче используется таблица listings.\n",
    "\n",
    "Подсказки\n",
    "\n",
    "ВАЖНОЕ ЗАМЕЧАНИЕ!\n",
    "\n",
    "Если вы делаете задание через REDASH, убедитесь, что в ответ вносите целое число \n",
    "\n",
    "( 75.00 -> 75 )"
   ]
  },
  {
   "cell_type": "code",
   "execution_count": null,
   "metadata": {},
   "outputs": [],
   "source": [
    "SELECT\n",
    "    host_is_superhost,\n",
    "    AVG(toInt32OrNull(replaceAll(host_response_rate, '%', ''))) as AvgResp\n",
    "FROM\n",
    "    (SELECT DISTINCT(host_id) AS host_id,\n",
    "        host_is_superhost AS host_is_superhost,\n",
    "        host_response_rate AS host_response_rate\n",
    "        \n",
    "\n",
    "    FROM listings\n",
    "    \n",
    "    )\n",
    "GROUP BY\n",
    "    host_is_superhost\n"
   ]
  },
  {
   "cell_type": "markdown",
   "metadata": {},
   "source": [
    "\t\n",
    "t\t98\n",
    "f\t89.39845065678679"
   ]
  },
  {
   "cell_type": "markdown",
   "metadata": {},
   "source": [
    "##### ОТВЕТ: 98"
   ]
  },
  {
   "cell_type": "markdown",
   "metadata": {},
   "source": [
    "## ШАГ 6"
   ]
  },
  {
   "cell_type": "code",
   "execution_count": null,
   "metadata": {},
   "outputs": [],
   "source": [
    "# \"\"\"\n",
    "# Сгруппируйте данные из listings по хозяевам (host_id) и посчитайте, какую цену за ночь в среднем каждый из них устанавливает \n",
    "# (у одного хоста может быть несколько объявлений). Идентификаторы сдаваемого жилья объедините в отдельный массив. \n",
    "# Таблицу отсортируйте по убыванию средней цены и убыванию host_id (в таком порядке). \n",
    "# В качестве ответа укажите первый массив в результирующей таблице, состоящий более чем из двух id. Например:\n",
    "\n",
    "# 2343477,6340,32324\n",
    "\n",
    "\n",
    "# host_id – идентификатор хозяина\n",
    "# id – идентификатор жилья\n",
    "# price – цена за ночь в конкретном месте\n",
    "# Пригодятся:\n",
    "\n",
    "# groupArray(столбец) – составление массива\n",
    "# replaceRegexpAll(столбец, что_заменить, на_что_заменить) – паттерн [$,] с использованием функции replaceRegexpAll() \n",
    "# чтобы избавиться от $ и запятых Пример того, как выглядят цены в колонке price:\n",
    "# +----------+\n",
    "# | Price    | \n",
    "# +----------+\n",
    "# | $16.00   | \n",
    "# | $2,228.00|  \n",
    "# +----------+\n",
    "# toFloat32OrNull(столбец)\n",
    "# Note: id нужно вставить без пробелов, через запятую. \n",
    "\n",
    "# \"\"\""
   ]
  },
  {
   "cell_type": "code",
   "execution_count": null,
   "metadata": {},
   "outputs": [],
   "source": [
    "SELECT \n",
    "    host_id,\n",
    "    groupArray(id) AS Array_id,\n",
    "    AVG(toFloat64OrNull(replaceRegexpAll(price, '[$,]', ''))) as AvgPricePerHost\n",
    "\n",
    "FROM listings\n",
    "GROUP BY host_id\n",
    "ORDER BY AvgPricePerHost DESC,\n",
    "        host_id DESC\n",
    "LIMIT 10"
   ]
  },
  {
   "cell_type": "markdown",
   "metadata": {},
   "source": [
    "49896804\t9651871\t9000\n",
    "28957697\t28462345\t8600\n",
    "187655517\t25757977,25759146,25802565,25802651,25802838,25802909,25803050,25803117,25803218,25803260\t6000\n",
    "98159395\t26186816,26186866,26186925,26186990,26187036,26187118,26187200,26187278,26187361,26249881\t6000\n",
    "90556837\t22586252\t5000\n",
    "86166545\t14201780\t5000\n",
    "12318581\t7024131\t4240\n",
    "155140624\t21447280,21479879\t4011.5\n",
    "109992090\t26294126\t3000\n",
    "14623546\t2860420\t2500"
   ]
  },
  {
   "cell_type": "markdown",
   "metadata": {},
   "source": [
    "#### ОТВЕТ:\n",
    "25757977,25759146,25802565,25802651,25802838,25802909,25803050,25803117,25803218,25803260"
   ]
  },
  {
   "cell_type": "markdown",
   "metadata": {},
   "source": [
    "## ШАГ 7\n",
    "задание \n",
    "\n",
    "Немного усложним предыдущую задачу, и посчитаем разницу между максимальной и минимальной установленной ценой у каждого хозяина.\n",
    "\n",
    "В качестве ответа укажите идентификатор хоста, у которого разница оказалась наибольшей. \n",
    "\n",
    "host_id – идентификатор хозяина\n",
    "\n",
    "id – идентификатор жилья\n",
    "\n",
    "price – цена за ночь в конкретном месте\n",
    "Пригодятся:\n",
    "    \n",
    "\n",
    "replaceRegexpAll(столбец, что_заменить, на_что_заменить) – паттерн [$,] чтобы избавиться от $ и запятых\n",
    "\n",
    "toFloat32OrNull(столбец)\n",
    "\n",
    "Note: не забудьте повторить операции с предыдущего шага, обратите внимание на сортировку.\n",
    "\n",
    "Подсказки\n",
    "\n",
    "ВАЖНОЕ ЗАМЕЧАНИЕ!\n",
    "\n",
    "Если вы делаете задание через REDASH, убедитесь, что в ответ вносите значение без запятых между порядками числа \n",
    "( 9,424,234.05 -> 9424234.05 )"
   ]
  },
  {
   "cell_type": "code",
   "execution_count": null,
   "metadata": {},
   "outputs": [],
   "source": [
    "SELECT \n",
    "    host_id,\n",
    "    groupArray(id) AS Array_id,\n",
    "    MAX(toFloat64OrNull(replaceRegexpAll(price, '[$,]', ''))) as MaxPricePerHost,\n",
    "    MIN(toFloat64OrNull(replaceRegexpAll(price, '[$,]', ''))) as MinPricePerHost,\n",
    "    MaxPricePerHost - MinPricePerHost AS difference\n",
    "FROM listings \n",
    "GROUP BY host_id\n",
    "ORDER BY difference DESC\n",
    "\n",
    "LIMIT 10\n"
   ]
  },
  {
   "cell_type": "markdown",
   "metadata": {},
   "source": [
    "155140624\t21447280,21479879\t8000\t23\t7977\n",
    "3003519\t9536912,16237757,16250536,16252509,16254081,16280687,19153150,22966047\t2500\t100\t2400\n",
    "4259960\t810056,6408850,7239371,18586882\t2228\t14\t2214\n",
    "102979040\t19961235,20808102,20810849,22075653,23003841,23176584,23180356,23302498,23522653,25821868,26549470,26549473,26549474,26549615,26606882,26606887\t1875\t85\t1790\n",
    "134939989\t26836678,29684637\t1500\t120\t1380\n",
    "7479020\t12162808,15256845,16543873\t1250\t79\t1171\n",
    "54942921\t10641148,10641334,10642720,10643786,10822913,13861835,14288914,14290848,14479069,14479963,19341361,19730036,19732253,21279723,21286310,26447631,28003596,28004298\t899\t39\t860\n",
    "9887915\t1904731,17479412,28095362\t1000\t160\t840\n",
    "909226\t8800109,8957894,9287838,10043384,13593507,13666450,16799799,17223235,20871245\t885\t99\t786\n",
    "42671030\t28772056,29021563,29022213,29022451,29022524,29022547\t1000\t255\t745"
   ]
  },
  {
   "cell_type": "markdown",
   "metadata": {},
   "source": [
    "###### ОТВЕТ : 155140624"
   ]
  },
  {
   "cell_type": "markdown",
   "metadata": {},
   "source": [
    "## ШАГ 8\n",
    "Теперь сгруппируйте данные по типу жилья и выведите средние значения цены за ночь, размера депозита и цены уборки. \n",
    "\n",
    "Обратите внимание на тип данных, наличие значка $ и запятых в больших суммах. \n",
    "\n",
    "Для какого типа жилья среднее значение залога наибольшее?\n",
    "\n",
    "\n",
    "room_type – тип сдаваемого жилья \n",
    "\n",
    "price – цена за ночь\n",
    "\n",
    "security_deposit – залог за сохранность имущества\n",
    "\n",
    "cleaning_fee – плата за уборку\n",
    "\n",
    "Пригодятся:\n",
    "\n",
    "toFloat32OrNull(столбец)\n",
    "\n",
    "replaceRegexpAll(столбец, что_заменить, на_что_заменить) – паттерн [$,] чтобы избавиться от $ и запятых"
   ]
  },
  {
   "cell_type": "code",
   "execution_count": null,
   "metadata": {},
   "outputs": [],
   "source": [
    "SELECT \n",
    "    room_type,\n",
    "    AVG(toFloat64OrNull(replaceRegexpAll(price, '[$,]', ''))) as AvgPricePerHost,\n",
    "    AVG(toFloat64OrNull(replaceRegexpAll(security_deposit, '[$,]', ''))) as Avg_security_deposit,\n",
    "    AVG(toFloat64OrNull(replaceRegexpAll(cleaning_fee, '[$,]', ''))) as Avg_cleaning_fee\n",
    "   \n",
    "FROM listings \n",
    "GROUP BY room_type\n",
    "ORDER BY Avg_security_deposit  DESC\n",
    "\n",
    "LIMIT 10"
   ]
  },
  {
   "cell_type": "markdown",
   "metadata": {},
   "source": [
    "Entire home/apt\t83.34890878567431\t274.9199887703537\t37.01574996923834\n",
    "Private room\t52.47910525403156\t117.24949118046133\t15.385309460031017\n",
    "Shared room\t51.564189189189186\t103.6140350877193\t9.188172043010752"
   ]
  },
  {
   "cell_type": "markdown",
   "metadata": {},
   "source": [
    "###### Ответ: Entire home/apt"
   ]
  },
  {
   "cell_type": "markdown",
   "metadata": {},
   "source": [
    "## ШАГ 9\n",
    "Отлично! В каких частях города средняя стоимость за ночь является наиболее низкой? \n",
    "\n",
    "Сгруппируйте данные по neighbourhood_cleansed и посчитайте среднюю цену за ночь в каждом районе.\n",
    "\n",
    "В качестве ответа введите название места, где средняя стоимость за ночь ниже всего.\n",
    "\n",
    "price – цена за ночь\n",
    "\n",
    "neighbourhood_cleansed – район/округ города\n",
    "\n",
    "Пригодятся:\n",
    "\n",
    "toFloat32OrNull(столбец)\n",
    "\n",
    "replaceRegexpAll(столбец, что_заменить, на_что_заменить) – паттерн [$,] чтобы избавиться от $ и запятых\n"
   ]
  },
  {
   "cell_type": "code",
   "execution_count": null,
   "metadata": {},
   "outputs": [],
   "source": [
    "SELECT \n",
    "    neighbourhood_cleansed,\n",
    "    AVG(toFloat64OrNull(replaceRegexpAll(price, '[$,]', ''))) as AvgPricePerHost\n",
    "FROM listings \n",
    "GROUP BY neighbourhood_cleansed\n",
    "ORDER BY AvgPricePerHost  \n",
    "\n",
    "LIMIT 10"
   ]
  },
  {
   "cell_type": "markdown",
   "metadata": {},
   "source": [
    "Neu-Hohenschönhausen Süd\t20.5\n",
    "Kölln. Vorstadt/Spindlersf.\t23.75\n",
    "Marzahn-Mitte\t26.857142857142858\n",
    "Hellersdorf-Süd\t28.2\n",
    "Gropiusstadt\t30.333333333333332\n",
    "Friedrichsfelde Süd\t30.391304347826086\n",
    "West 4\t33.75\n",
    "Grünau\t33.90909090909091\n",
    "Ost 1\t34.270833333333336\n",
    "Lankwitz\t36.38461538461539"
   ]
  },
  {
   "cell_type": "markdown",
   "metadata": {},
   "source": [
    "###### Ответ: Neu-Hohenschönhausen Süd"
   ]
  },
  {
   "cell_type": "markdown",
   "metadata": {},
   "source": [
    "## ШАГ 10\n",
    "В каких районах Берлина средняя площадь жилья, которое сдаётся целиком, является наибольшей? \n",
    "\n",
    "Отсортируйте по среднему и выберите топ-3. \n",
    "\n",
    "\n",
    "neighbourhood_cleansed – район\n",
    "\n",
    "square_feet – площадь\n",
    "\n",
    "room_type – тип (нужный – 'Entire home/apt')\n",
    "\n",
    "Пригодится:\n",
    "\n",
    "toFloat32OrNull(столбец)"
   ]
  },
  {
   "cell_type": "code",
   "execution_count": null,
   "metadata": {},
   "outputs": [],
   "source": [
    "SELECT \n",
    "    neighbourhood_cleansed,\n",
    "    AVG(toFloat64OrNull(square_feet)) as Avgsquare_feet\n",
    "FROM listings \n",
    "WHERE room_type = 'Entire home/apt'\n",
    "GROUP BY neighbourhood_cleansed\n",
    "\n",
    "ORDER BY Avgsquare_feet DESC  \n",
    "\n",
    "LIMIT 10\n"
   ]
  },
  {
   "cell_type": "markdown",
   "metadata": {},
   "source": [
    "Kaulsdorf\t2260\n",
    "Schöneberg-Süd\t1752.6666666666667\n",
    "Lichtenrade\t1237.5\n",
    "Baumschulenweg\t1184\n",
    "Regierungsviertel\t1123\n",
    "Schmöckwitz/Karolinenhof/Rauchfangswerder\t977\n",
    "Brunnenstr. Nord\t932.6666666666666\n",
    "Kurfürstendamm\t915\n",
    "West 5\t861\n",
    "Friedrichsfelde Nord\t807"
   ]
  },
  {
   "cell_type": "markdown",
   "metadata": {},
   "source": [
    "###### ОТВЕТ : \n",
    "    Kaulsdorf\n",
    "    Schöneberg-Süd\n",
    "    Lichtenrade"
   ]
  },
  {
   "cell_type": "markdown",
   "metadata": {},
   "source": [
    "## ШАГ 11\n",
    "\n",
    "Напоследок давайте посмотрим, какая из представленных комнат расположена ближе всего к центру города. \n",
    "\n",
    "В качестве ответа укажите id объявления.\n",
    "\n",
    "id – идентификатор жилья (объявления)\n",
    "\n",
    "room_type – тип жилья ('Private room')\n",
    "\n",
    "latitude – широта\n",
    "\n",
    "longitude – долгота\n",
    "\n",
    "52.5200 с.ш., 13.4050 в.д – координаты центра Берлина\n",
    "\n",
    "Пригодятся:\n",
    "\n",
    "toFloat64OrNull(столбец)\n",
    "geoDistance(13.4050, 52.5200, долгота, широта)"
   ]
  },
  {
   "cell_type": "code",
   "execution_count": null,
   "metadata": {},
   "outputs": [],
   "source": [
    "SELECT \n",
    "    id,\n",
    "    geoDistance(13.4050, 52.5200, toFloat64OrNull(longitude), toFloat64OrNull(latitude)) AS disance_to_centr\n",
    "    \n",
    "FROM listings \n",
    "WHERE room_type = 'Private room'\n",
    "\n",
    "\n",
    "ORDER BY disance_to_centr\n",
    "\n",
    "LIMIT 10"
   ]
  },
  {
   "cell_type": "code",
   "execution_count": null,
   "metadata": {},
   "outputs": [],
   "source": [
    "19765058\t58.80182\n",
    "22543260\t75.29827\n",
    "1608059\t95.993774\n",
    "28518348\t101.384964\n",
    "27685334\t109.362976\n",
    "28477318\t111.97329\n",
    "25969985\t113.42109\n",
    "27516513\t122.70006\n",
    "23867497\t130.00731\n",
    "14167097\t141.02852"
   ]
  },
  {
   "cell_type": "markdown",
   "metadata": {},
   "source": [
    "###### ОТВЕТ : 19765058\n",
    "это же 58 метров )) от центра города и всего 55$"
   ]
  }
 ],
 "metadata": {
  "kernelspec": {
   "display_name": "Python 3",
   "language": "python",
   "name": "python3"
  },
  "language_info": {
   "codemirror_mode": {
    "name": "ipython",
    "version": 3
   },
   "file_extension": ".py",
   "mimetype": "text/x-python",
   "name": "python",
   "nbconvert_exporter": "python",
   "pygments_lexer": "ipython3",
   "version": "3.7.3"
  }
 },
 "nbformat": 4,
 "nbformat_minor": 4
}
