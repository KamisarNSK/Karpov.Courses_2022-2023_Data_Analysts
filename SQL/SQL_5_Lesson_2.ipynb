{
 "cells": [
  {
   "cell_type": "markdown",
   "metadata": {},
   "source": [
    "# 5 УРОК ЧАСТЬ 2\n",
    "\n",
    "ПОДЗАПРОСЫ, ПРЕДСТАВЛЕНИЯ, СОЗДАНИЕ ТАБЛИЦ"
   ]
  },
  {
   "cell_type": "markdown",
   "metadata": {},
   "source": [
    "## 1"
   ]
  },
  {
   "cell_type": "markdown",
   "metadata": {},
   "source": [
    "### Сопоставьте операторы с соответствующим описанием"
   ]
  },
  {
   "cell_type": "markdown",
   "metadata": {},
   "source": [
    "DROP TABLE    Удалить таблицу\n",
    "INSERT INTO   Записать данные в таблицу\n",
    "ADD COLUMN    Добавить столбец\n",
    "DELETE WHERE  Удалить строки, где выполняется условие\n",
    "DROP COLUMN   Удалить столбец\n"
   ]
  },
  {
   "cell_type": "markdown",
   "metadata": {},
   "source": [
    "## 2"
   ]
  },
  {
   "cell_type": "code",
   "execution_count": null,
   "metadata": {},
   "outputs": [],
   "source": [
    "Напишите запрос для создания таблицы со следующими параметрами, также подобрав подходящий тип данных.\n",
    "\n",
    "Название таблицы: reviews\n",
    "База данных: test\n",
    "Столбцы:\n",
    "- listing_id – идентификатор объявления, может быть только положительным и целым числом, 32-битный тип данных\n",
    "\n",
    "- id – идентификатор хозяина, может быть только положительным и целым числом, 32-битный тип данных\n",
    "\n",
    "- created_at – дата со временем (2020-01-01 00:00:00), часовой пояс – 'Europe/Moscow'\n",
    "\n",
    "- reviewer_id – идентификатор ревьюера, может быть только положительным и целым числом, 32-битный тип данных\n",
    "\n",
    "- reviewer_name – имя того, кто оставил отзыв\n",
    "\n",
    "- comments - текст отзыва\n",
    "\n",
    "Движок: MergeTree\n",
    "Сортировка: listing_id, id\n",
    "Пригодится:\n",
    "\n",
    "CREATE TABLE – документация \n",
    "Int32, UInt32 – документация\n",
    "DateTime('Europe/Moscow') – документация\n",
    "Note: вы можете потренироваться, создав таблицу с другим названием. Например, reviews_ваше_имя."
   ]
  },
  {
   "cell_type": "markdown",
   "metadata": {},
   "source": [
    "#### ЭТО в TABIX\n",
    "\n",
    "CREATE TABLE test.reviews_s_kamsarin  (\n",
    "\n",
    "    listing_id UInt32,\n",
    "    id UInt32,\n",
    "    created_at DateTime('Europe/Moscow'),\n",
    "    reviewer_id UInt32,\n",
    "    reviewer_name String,\n",
    "    comments String\n",
    ")\n",
    "ENGINE = MergeTree\n",
    "ORDER BY (listing_id, id)"
   ]
  },
  {
   "cell_type": "markdown",
   "metadata": {},
   "source": [
    "### ОТВЕТ: в LMS\n",
    "    \n",
    "CREATE TABLE test.reviews  \n",
    "(\n",
    "\n",
    "    listing_id[uint32],\n",
    "    id[uint32],\n",
    "    created_at[DateTime('Europe/Moscow')],\n",
    "    reviewer_id[uint32],\n",
    "    reviewer_name[string],\n",
    "    comments[string]\n",
    "ORDER BY (listing_id, id)\n",
    "\n",
    ")ENGINE = MergeTree"
   ]
  },
  {
   "cell_type": "markdown",
   "metadata": {},
   "source": [
    "## 3"
   ]
  },
  {
   "cell_type": "code",
   "execution_count": null,
   "metadata": {},
   "outputs": [],
   "source": [
    "К вам пришел коллега с новостями: оказывается, в поле created_at будет записываться только дата, без времени, \n",
    "    \n",
    "поэтому нужно изменить тип данных!\n",
    "\n",
    "Напишите запрос, который модифицирует тип данных, и введите его в поле ниже без кавычек и лишних пробелов. \n",
    "\n",
    "Не забудьте указать базу данных test перед названием таблицы! \n",
    "\n",
    "ALTER TABLE listings_copy \n",
    "    MODIFY COLUMN host_id UInt64"
   ]
  },
  {
   "cell_type": "markdown",
   "metadata": {},
   "source": [
    "###### Ответ в LMS:\n",
    "    \n",
    "    ALTER TABLE test.reviews MODIFY COLUMN created_at Date"
   ]
  },
  {
   "cell_type": "markdown",
   "metadata": {},
   "source": [
    "###### Для Clickhouse\n",
    "\n",
    "ALTER TABLE test.reviews_s_kamsarin\n",
    "\n",
    "MODIFY COLUMN created_at Date"
   ]
  },
  {
   "cell_type": "markdown",
   "metadata": {},
   "source": [
    "## 4"
   ]
  },
  {
   "cell_type": "markdown",
   "metadata": {},
   "source": [
    "Предположим, ваш коллега вставил данные, но что-то перепутал. Часть строк с комментариями осталась совершенно пустой! \n",
    "\n",
    "Напишите запрос, который удалит из таблицы test.reviews те строки, где в столбце comments встречаются пустые значения (''). \n",
    "\n",
    "Введите его в поле ниже без кавычек и лишних пробелов.\n"
   ]
  },
  {
   "cell_type": "code",
   "execution_count": null,
   "metadata": {},
   "outputs": [],
   "source": [
    "# ALTER TABLE listings_copy \n",
    "#     DELETE WHERE room_type='Private room'"
   ]
  },
  {
   "cell_type": "markdown",
   "metadata": {},
   "source": [
    "###### Ответ в LMS:\n",
    "ALTER TABLE test.reviews DELETE WHERE comments=''"
   ]
  },
  {
   "cell_type": "markdown",
   "metadata": {},
   "source": [
    "###### Для Clickhouse\n",
    "\n",
    "ALTER TABLE test.reviews_s_kamsarin\n",
    "\n",
    "DELETE WHERE comments=''"
   ]
  },
  {
   "cell_type": "markdown",
   "metadata": {},
   "source": [
    "## 5"
   ]
  },
  {
   "cell_type": "markdown",
   "metadata": {},
   "source": [
    "###### С помощью какого запроса можно создать обычное представление над таблицей test.reviews, \n",
    "\n",
    "которое будет содержать все записи из test.reviews, \n",
    "\n",
    "сгруппированные по reviewer_id с подсчитанным количеством отзывов (id) на каждого пользователя?\n",
    "\n",
    " "
   ]
  },
  {
   "cell_type": "markdown",
   "metadata": {},
   "source": [
    "- **Как решить это задание**\n",
    "    \n",
    "    В этом задании нужно выбрать запрос, который создает обычное (не материальное - значит, нужно использовать оператор `CREATE VIEW`) представление над таблицей `test.reviews`\n",
    "    \n",
    "    Это представление будет содержать все записи из `test.reviews`, сгруппированные по `reviewer_id`с подсчитанным количеством отзывов (`id`) на каждого пользователя.\n",
    "    \n",
    "- **Синтаксис оператора** `CREATE VIEW`\n",
    "\n",
    "CREATE VIEW ios_installs AS \n",
    "(\n",
    "SELECT\n",
    "\t\tcolumn_name,\n",
    "    COUNT(...),\n",
    "\t\t... \n",
    "FROM \n",
    "    table_name\n",
    "GROUP BY \n",
    "\t\t...\n",
    ")"
   ]
  },
  {
   "cell_type": "markdown",
   "metadata": {},
   "source": [
    "###### ОТВЕТ: \n",
    "    \n",
    "CREATE VIEW test.reviews_number AS (SELECT reviewer_id, COUNT(id) reviews_count FROM test.reviews GROUP BY reviewer_id)"
   ]
  },
  {
   "cell_type": "markdown",
   "metadata": {},
   "source": [
    "## 6"
   ]
  },
  {
   "cell_type": "markdown",
   "metadata": {},
   "source": [
    "##### С помощью какого запроса можно создать новый столбец reviewer_score в таблице reviews после столбца reviewer_name?"
   ]
  },
  {
   "cell_type": "code",
   "execution_count": null,
   "metadata": {},
   "outputs": [],
   "source": [
    "- **Как решить это задание**\n",
    "    \n",
    "    В этом задании нужно выбрать запрос, с помощью которого можно создать новый столбец `reviewer_score`\n",
    "    \n",
    "    в таблице `reviews` после столбца `reviewer_name`. \n",
    "    \n",
    "    `ADD COLUMN` – добавить колонку.\n",
    "    \n",
    "- **Синтаксис оператора** `ADD COLUMN`\n",
    "\n",
    "ALTER TABLE table_name \n",
    "\t\tADD COLUMN column_2 column_type AFTER column_2"
   ]
  },
  {
   "cell_type": "markdown",
   "metadata": {},
   "source": [
    "###### ОТВЕТ:\n",
    "    \n",
    "    ALTER TABLE test.reviews ADD COLUMN reviewer_score UInt8 AFTER reviewer_name"
   ]
  },
  {
   "cell_type": "markdown",
   "metadata": {},
   "source": [
    "## 7"
   ]
  },
  {
   "cell_type": "markdown",
   "metadata": {},
   "source": [
    "###### Напишите запрос для добавления в таблицу test.reviews колонки price после колонки comments, \n",
    "\n",
    "которая может быть числом с плавающей точкой, 32-битный тип данных."
   ]
  },
  {
   "cell_type": "markdown",
   "metadata": {},
   "source": [
    "##### Clickhouse\n",
    "\n",
    "ALTER TABLE test.reviews_s_kamsarin\n",
    "\n",
    "ADD COLUMN price Float32 AFTER comments"
   ]
  },
  {
   "cell_type": "markdown",
   "metadata": {},
   "source": [
    "###### ОТВЕТ в LMS\n",
    "\n",
    "ALTER TABLE test.reviews ADD COLUMN price Float32 AFTER comments\n"
   ]
  },
  {
   "cell_type": "markdown",
   "metadata": {},
   "source": [
    "## 8"
   ]
  },
  {
   "cell_type": "markdown",
   "metadata": {},
   "source": [
    "##### Напишите запрос, который удвоит price для всех строк с датой (created_at) после 2019-01-01.\n",
    "\n",
    "Обратите внимание, что для сравнения с датой в формате '2019-01-01' можно не преобразовывать данные в колонке created_at."
   ]
  },
  {
   "cell_type": "code",
   "execution_count": null,
   "metadata": {},
   "outputs": [],
   "source": [
    "- **Как решить это задание**\n",
    "    \n",
    "    В этом задании нужно написать запрос, который удвоит `price` для всех строк с датой (`date`) после 2019-01-01.\n",
    "    \n",
    "    Обратите внимание, что для сравнения с датой в формате '2019-01-01' можно не преобразовывать данные в колонке `date`.\n",
    "    \n",
    "    Ответ необходимо ввести без лишних пробелов между операциями умножения и сравнения.\n",
    "    \n",
    "- **Синтаксис оператора** `UPDATE`\n",
    "\n",
    "    \n",
    "    `UPDATE WHERE` –  обновляет строки для которых выполняется указанное условие. \n",
    "    \n",
    "    ```sql\n",
    "    \n",
    "    ALTER TABLE test.installs_mt \n",
    "        UPDATE InstallCost = InstallCost * 2 WHERE Platform = 'iOS'\n",
    "    ```\n",
    "    \n",
    "    Этот запрос удвоит значения `InstallCost` для платформы iOS."
   ]
  },
  {
   "cell_type": "markdown",
   "metadata": {},
   "source": [
    "###### ОТВЕТ в LMS\n",
    "\n",
    "ALTER TABLE test.reviews UPDATE price=price*2 WHERE created_at>'2019-01-01'"
   ]
  }
 ],
 "metadata": {
  "kernelspec": {
   "display_name": "Python 3",
   "language": "python",
   "name": "python3"
  },
  "language_info": {
   "codemirror_mode": {
    "name": "ipython",
    "version": 3
   },
   "file_extension": ".py",
   "mimetype": "text/x-python",
   "name": "python",
   "nbconvert_exporter": "python",
   "pygments_lexer": "ipython3",
   "version": "3.7.3"
  }
 },
 "nbformat": 4,
 "nbformat_minor": 4
}
