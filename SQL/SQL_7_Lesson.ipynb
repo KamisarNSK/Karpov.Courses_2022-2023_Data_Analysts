{
 "cells": [
  {
   "cell_type": "markdown",
   "metadata": {},
   "source": [
    "# 7 УРОК ГРАФИКИ, ДАШБОРДЫ И МОНИТОРИНГИ"
   ]
  },
  {
   "cell_type": "markdown",
   "metadata": {},
   "source": [
    "## 1"
   ]
  },
  {
   "cell_type": "code",
   "execution_count": null,
   "metadata": {},
   "outputs": [],
   "source": [
    "Ваш менее опытный коллега не уверен, что его таблица retail действительно создалась и добавилась в базу данных. \n",
    "\n",
    "Напишите запрос, который создаст таблицу, если она еще не существует (IF NOT EXISTS), со следующими параметрами:\n",
    "\n",
    "Название: retail\n",
    "База: test\n",
    "Столбцы:\n",
    "    \n",
    "- InvoiceNo – идентификатор заказа, строковое значение\n",
    "\n",
    "- StockCode – идентификатор товара, строковое значение\n",
    "\n",
    "- Description – описание товара, строковое значение\n",
    "\n",
    "- Quantity – количество единиц товара, добавленных в корзину (особенность данных – значения могут быть отрицательными, 32 бита)\n",
    "\n",
    "- InvoiceDate – дата и время создания заказа (транзакции), часовой пояс – 'Europe/London'\n",
    "\n",
    "- UnitPrice – цена за единицу товара (особенность данных – значения могут быть отрицательными, точность – три знака после точки, 64 бита)\n",
    "\n",
    "- CustomerID – идентификатор пользователя, целое положительное число, 32 бита.\n",
    "\n",
    "- Country – страна, строковое значение. \n",
    "\n",
    "Движок: MergeTree\n",
    "Сортировка: InvoiceDate, CustomerID\n",
    "Hint: Decimal64"
   ]
  },
  {
   "cell_type": "code",
   "execution_count": null,
   "metadata": {},
   "outputs": [],
   "source": [
    "CREATE TABLE IF NOT EXISTS test.retail_Kamsarin ( \n",
    "    InvoiceNo String, \n",
    "    StockCode String,\n",
    "    Description String,\n",
    "    Quantity Int32,\n",
    "    InvoiceDate DateTime('Europe/London'),\n",
    "    UnitPrice Decimal64(3),\n",
    "    CustomerID UInt32,\n",
    "    Country String\n",
    "    ) \n",
    "\n",
    "ENGINE = MergeTree -- движок\n",
    "ORDER BY (InvoiceDate, CustomerID)"
   ]
  },
  {
   "cell_type": "markdown",
   "metadata": {},
   "source": [
    "##### ОТВЕТ в LMS"
   ]
  },
  {
   "cell_type": "code",
   "execution_count": null,
   "metadata": {},
   "outputs": [],
   "source": [
    "CREATE TABLE IF NOT EXISTS test.retail ( \n",
    "    InvoiceNo String, \n",
    "    StockCode String,\n",
    "    Description String,\n",
    "    Quantity Int32,\n",
    "    InvoiceDate DateTime('Europe/London'),\n",
    "    UnitPrice Decimal64(3),\n",
    "    CustomerID UInt32,\n",
    "    Country String\n",
    "    ) \n",
    "\n",
    "ENGINE = MergeTree \n",
    "ORDER BY (InvoiceDate, CustomerID)"
   ]
  },
  {
   "cell_type": "markdown",
   "metadata": {},
   "source": [
    "## 2"
   ]
  },
  {
   "cell_type": "code",
   "execution_count": null,
   "metadata": {},
   "outputs": [],
   "source": [
    "В следующих шагах используется default.retail – данные о транзакциях британского интернет-магазина \n",
    "\n",
    "в период с 1 декабря 2010 по 9 декабря 2011, где:\n",
    "\n",
    "InvoiceNo – номер транзакции\n",
    "StockCode – код товара\n",
    "Description – описание товара\n",
    "Quantity – количество единиц товара, добавленных в заказ\n",
    "InvoiceDate – дата транзакции \n",
    "UnitPrice – цена за единицу товара\n",
    "CustomerID – id клиента\n",
    "Country – страна, где проживает клиент\n",
    "Для выполнения заданий и построения графиков вам понадобится Redash. О том, как в него зайти, \n",
    "\n",
    "как строить графики и дашборды – в Notion.\n",
    "\n",
    " "
   ]
  },
  {
   "cell_type": "markdown",
   "metadata": {},
   "source": [
    "## 3"
   ]
  },
  {
   "cell_type": "code",
   "execution_count": null,
   "metadata": {},
   "outputs": [],
   "source": [
    "Для начала посмотрите, в каких странах имеется наибольшее число уникальных пользователей. Постройте барчарт, где:\n",
    "\n",
    "по оси x – страна\n",
    "по оси y – число пользователей\n",
    "В качестве ответа укажите число уникальных пользователей из Великобритании. \n",
    "\n",
    "Note: запятые в Redash отделяют каждые три знака в числе (тысячные доли, миллионные и так далее). \n",
    "    \n",
    "Например, 2,535,966 - это 2535966. В ответ надо писать число без запятых."
   ]
  },
  {
   "cell_type": "code",
   "execution_count": null,
   "metadata": {},
   "outputs": [],
   "source": [
    "SELECT Country,\n",
    "    COUNT(DISTINCT(CustomerID)) AS Count_CustomerID\n",
    "FROM default.retail\n",
    "GROUP BY Country"
   ]
  },
  {
   "cell_type": "markdown",
   "metadata": {},
   "source": [
    "##### ОТВЕТ: 3950"
   ]
  },
  {
   "cell_type": "markdown",
   "metadata": {},
   "source": [
    "## 4"
   ]
  },
  {
   "cell_type": "code",
   "execution_count": null,
   "metadata": {},
   "outputs": [],
   "source": [
    "Следующая задача – посмотреть на динамику изменения числа активных пользователей в месяц \n",
    "в Великобритании, Австралии и Нидерландах. Полученная вами результирующая таблица должна иметь \n",
    "вид: страна - число уникальных пользователей за определённый месяц.\n",
    "\n",
    "MAU (monthly active users) – число уникальных пользователей за месяц. \n",
    "Активные пользователи – те, кто сделал хотя бы один заказ за выбранный промежуток времени (месяц).\n",
    "В качестве ответа укажите наименьшее число пользователей за февраль 2011. \n",
    "\n",
    "Hint: toStartOfMonth()"
   ]
  },
  {
   "cell_type": "code",
   "execution_count": null,
   "metadata": {},
   "outputs": [],
   "source": [
    "- **Как решить это задание?**\n",
    "    \n",
    "    В этом задании вам нужно:\n",
    "    \n",
    "    - Посчитать количество **уникальных** пользователей\n",
    "    - При помощи `toStartOfMonth()` конвертировать дату платежа к **началу месяца**\n",
    "    - В `WHERE` нужно отфильтровать страны United Kingdom, Netherlands и Australia\n",
    "    - Визуализировать данные с помощью Line-chart, где по оси X - месяц, по оси Y - количество **уникальных** пользователей, \n",
    "    группировав по стране.\n",
    "    \n",
    "    Ваш лайн-чарт должен выглядеть примерно так: \n",
    "    \n",
    "    ![Untitled](https://s3-us-west-2.amazonaws.com/secure.notion-static.com/557ecedc-58cb-42da-8fee-88675f378145/Untitled.png)\n",
    "    \n",
    "    Чтобы перечислить несколько стран, нужно пользоваться такой конструкцией как\n",
    "    WHERE Country IN ('A', 'B', 'C')"
   ]
  },
  {
   "cell_type": "code",
   "execution_count": null,
   "metadata": {},
   "outputs": [],
   "source": [
    "SELECT Country,\n",
    "    toStartOfMonth(InvoiceDate) AS InvoiceDate_Month,\n",
    "    COUNT(DISTINCT(CustomerID)) AS Count_CustomerID\n",
    "FROM default.retail\n",
    "WHERE Country IN ('United Kingdom', 'Netherlands', 'Australia')\n",
    "GROUP BY Country,InvoiceDate_Month"
   ]
  },
  {
   "cell_type": "markdown",
   "metadata": {},
   "source": [
    "##### ОТВЕТ: 2"
   ]
  },
  {
   "cell_type": "markdown",
   "metadata": {},
   "source": [
    "## 5"
   ]
  },
  {
   "cell_type": "code",
   "execution_count": null,
   "metadata": {},
   "outputs": [],
   "source": [
    "Как вы могли заметить, график с предыдущего шага получается не очень информативным для 2 из 3 стран.\n",
    "\n",
    "Давайте посмотрим на динамику изменения числа активных пользователей в месяц уже для всех стран, кроме Великобритании. \n",
    "\n",
    "В каких месяцах число активных пользователей во Франции было больше, чем в Германии?"
   ]
  },
  {
   "cell_type": "code",
   "execution_count": null,
   "metadata": {},
   "outputs": [],
   "source": [
    "SELECT Country,\n",
    "    toStartOfMonth(InvoiceDate) AS InvoiceDate_Month,\n",
    "    COUNT(DISTINCT(CustomerID)) AS Count_CustomerID\n",
    "FROM default.retail\n",
    "WHERE Country  NOT IN ('United Kingdom')\n",
    "GROUP BY Country,InvoiceDate_Month"
   ]
  },
  {
   "cell_type": "markdown",
   "metadata": {},
   "source": [
    "##### ОТВЕТ :\n",
    "Сентябрь 2011\n",
    "Декабрь 2011\n",
    "Май 2011\n"
   ]
  },
  {
   "cell_type": "markdown",
   "metadata": {},
   "source": [
    "## 6"
   ]
  },
  {
   "cell_type": "code",
   "execution_count": null,
   "metadata": {},
   "outputs": [],
   "source": [
    "Теперь проанализируем сами заказы. Посчитайте среднюю сумму заказа (AOV – average order value) в каждой из стран.\n",
    "\n",
    "Обратите внимание, что пользователь может добавить несколько одинаковых товаров в один заказ, \n",
    "\n",
    "и для подсчета суммы каждого заказа можно создать столбец TotalPrice, в котором будет храниться цена, \n",
    "\n",
    "которую пользователь заплатил, например, за три упаковки чая.\n",
    "\n",
    "InvoiceNo \tDescription \tQuantity \tUnitPrice\tTotalPrice\n",
    "12345 \t12345 \t3\t1.2\t3.6\n",
    "12345 \tCOOKIES \t1\t2.5\t2.5\n",
    "Далее для каждого заказа нужно просуммировать полученную колонку, а затем сгруппировать данные по странам и \n",
    "\n",
    "посчитать среднюю сумму заказа в каждой из них.\n",
    "\n",
    "Визуализируйте результат. Из представленных вариантов ответа выберите страны, входящие в топ-3 по величине средней суммы заказа.\n",
    "\n",
    "NB! В таблице есть отрицательные значения Quantity, что соответствует отмененным заказам. Их в расчет AOV включать не нужно. "
   ]
  },
  {
   "cell_type": "code",
   "execution_count": null,
   "metadata": {},
   "outputs": [],
   "source": [
    "SELECT Country,\n",
    "    AVG(UnitPrice*Quantity) AS AOV\n",
    "    \n",
    "FROM default.retail\n",
    "WHERE Quantity > 0\n",
    "\n",
    "GROUP BY Country"
   ]
  },
  {
   "cell_type": "code",
   "execution_count": null,
   "metadata": {},
   "outputs": [],
   "source": [
    "SELECT Country,\n",
    "    AVG(SUM_InvoiceNo) AS AOV\n",
    "\n",
    "FROM\n",
    "    (\n",
    "    SELECT Country,\n",
    "        InvoiceNo,\n",
    "        SUM(UnitPrice * Quantity) AS SUM_InvoiceNo\n",
    "    FROM default.retail\n",
    "    WHERE Quantity > 0\n",
    "    GROUP BY Country, InvoiceNo\n",
    "    )\n",
    "GROUP BY Country\n",
    "LIMIT 100"
   ]
  },
  {
   "cell_type": "markdown",
   "metadata": {},
   "source": [
    "##### ОТВЕТ: \n",
    "Australia\n",
    "Singapore\n",
    "Netherlands"
   ]
  },
  {
   "cell_type": "markdown",
   "metadata": {},
   "source": [
    "## 7"
   ]
  },
  {
   "cell_type": "code",
   "execution_count": null,
   "metadata": {},
   "outputs": [],
   "source": [
    "Как изменялась средняя сумма заказа в разных странах по месяцам?\n",
    "\n",
    "Предположим, нас интересует динамика в следующих странах: \n",
    "United Kingdom, Germany, France, Spain, Netherlands, Belgium, Switzerland, Portugal, Australia, USA. \n",
    "Визуализируйте результат и выберите верные утверждения.\n",
    "\n",
    " "
   ]
  },
  {
   "cell_type": "code",
   "execution_count": null,
   "metadata": {},
   "outputs": [],
   "source": [
    "SELECT Country,\n",
    "    AVG(SUM_InvoiceNo) AS Total_Sum_day,\n",
    "    InvoiceDate_Month\n",
    "\n",
    "FROM\n",
    "    (\n",
    "    SELECT Country,\n",
    "        InvoiceNo,\n",
    "        toStartOfMonth(InvoiceDate) AS InvoiceDate_Month,\n",
    "        SUM(UnitPrice * Quantity) AS SUM_InvoiceNo\n",
    "    FROM default.retail\n",
    "    WHERE Quantity > 0 AND Country IN ('United Kingdom', 'Germany', 'France', 'Spain', 'Netherlands', 'Belgium', 'Switzerland', 'Portugal','Australia', 'USA')\n",
    "    GROUP BY Country, InvoiceNo,InvoiceDate_Month\n",
    "    )\n",
    "GROUP BY Country,InvoiceDate_Month"
   ]
  },
  {
   "cell_type": "markdown",
   "metadata": {},
   "source": [
    "##### ОТВЕТ:\n",
    "Аномальный рост среднего чека произошел в августе 2011 среди пользователей из Австралии\n",
    "\n",
    "Самые большие значения среднего чека наблюдаются в Австралии и Нидерландах\n",
    "\n",
    "Где-то в октябре средний чек США подскочил вверх с нуля"
   ]
  },
  {
   "cell_type": "markdown",
   "metadata": {},
   "source": [
    "## 8"
   ]
  },
  {
   "cell_type": "code",
   "execution_count": null,
   "metadata": {},
   "outputs": [],
   "source": [
    "Сколько товаров пользователи обычно добавляют в корзину? Посчитайте среднее количество товаров, добавленных в корзину, \n",
    "с разбивкой по странам. \n",
    "\n",
    "В качестве ответа укажите среднее число товаров в заказе среди пользователей в Канаде (Canada). Разделитель - точка."
   ]
  },
  {
   "cell_type": "code",
   "execution_count": null,
   "metadata": {},
   "outputs": [],
   "source": [
    "# Сделал в табикс\n",
    "SELECT Country,\n",
    "    AVG(SUM_Quantity) AS Avg_SUM_Quantity\n",
    "\n",
    "FROM\n",
    "    (\n",
    "    SELECT Country,\n",
    "        InvoiceNo,\n",
    "        SUM(Quantity) AS SUM_Quantity\n",
    "    FROM default.retail\n",
    "    WHERE Quantity > 0\n",
    "    GROUP BY Country, InvoiceNo\n",
    "    )\n",
    "GROUP BY Country\n",
    "LIMIT 100"
   ]
  },
  {
   "cell_type": "code",
   "execution_count": null,
   "metadata": {},
   "outputs": [],
   "source": [
    "Sweden\t1002.3055555555555\n",
    "Bahrain\t130\n",
    "Japan\t1369.2631578947369\n",
    "Finland\t261.0731707317073\n",
    "Brazil\t356\n",
    "EIRE\t540.4807692307693\n",
    "Belgium\t237.1122448979592\n",
    "Israel\t809.2\n",
    "Norway\t537.1666666666666\n",
    "Portugal\t282.8421052631579\n",
    "Canada\t460.5\n",
    "France\t286.560411311054\n",
    "Malta\t194\n",
    "Poland\t193.89473684210526\n",
    "Italy\t213.47368421052633\n",
    "Greece\t311.4\n",
    "Spain\t310.56666666666666"
   ]
  },
  {
   "cell_type": "markdown",
   "metadata": {},
   "source": [
    "##### Ответ: 460.5"
   ]
  },
  {
   "cell_type": "markdown",
   "metadata": {},
   "source": [
    "## 9"
   ]
  },
  {
   "cell_type": "code",
   "execution_count": null,
   "metadata": {},
   "outputs": [],
   "source": [
    "Возможно, результат на предыдущем шаге показался вам странным, особенно если соотнести средний размер корзины с числом уникальных пользователей в некоторых странах. \n",
    "\n",
    "Посмотрим на Нидерланды (Netherlands) более подробно. Сгруппируйте данные по пользователям и посмотрите, \n",
    "кто купил наибольшее число товаров. В ответе укажите идентификатор данного пользователя. "
   ]
  },
  {
   "cell_type": "code",
   "execution_count": null,
   "metadata": {},
   "outputs": [],
   "source": [
    "# 7 урок > 9 шаг > SQL\n",
    "\n",
    "- **Как решить это задание?**\n",
    "    \n",
    "    В этом задании нужно:\n",
    "    \n",
    "    1. Посчитать **количество товаров**, которые добавили в корзину, сгруппировав данные по пользователям\n",
    "    2. В ответе укажите идентификатор данного пользователя, который купил **наибольшее число товаров** в **Нидерландах** \n",
    "    (Netherlands)"
   ]
  },
  {
   "cell_type": "code",
   "execution_count": null,
   "metadata": {},
   "outputs": [],
   "source": [
    "SELECT CustomerID,\n",
    "        SUM(Quantity) AS SUM_Quantity\n",
    "    FROM default.retail\n",
    "    WHERE Quantity > 0 AND Country = 'Netherlands'\n",
    "GROUP BY CustomerID\n",
    "\n",
    "ORDER BY CustomerID DESC"
   ]
  },
  {
   "cell_type": "code",
   "execution_count": null,
   "metadata": {},
   "outputs": [],
   "source": [
    "14646\t197491\n",
    "12802\t314\n",
    "12791\t97\n",
    "12790\t166\n",
    "12789\t4\n",
    "12787\t261\n",
    "12778\t825\n",
    "12775\t877\n",
    "12759\t902"
   ]
  },
  {
   "cell_type": "markdown",
   "metadata": {},
   "source": [
    "##### ОТВЕТ : 14646"
   ]
  },
  {
   "cell_type": "markdown",
   "metadata": {},
   "source": [
    "## 10"
   ]
  },
  {
   "cell_type": "code",
   "execution_count": null,
   "metadata": {},
   "outputs": [],
   "source": [
    "Один из пользователей добавил к себе в корзину почти 200 тысяч товаров. Не кажется ли это подозрительным?\n",
    "\n",
    "Изучите, что именно он покупает, посмотрите на количество товаров в каждом заказе, итоговые суммы. Подумайте, кто или что это может быть 🤔\n",
    "\n",
    "Когда подумаете, просто введите идентификатор данного пользователя еще раз в поле ниже."
   ]
  },
  {
   "cell_type": "code",
   "execution_count": null,
   "metadata": {},
   "outputs": [],
   "source": [
    "В этом задании самая интересная часть аналитик, а именно - исследование аномалии.\n",
    "\n",
    "1) Вы можете забрать все имеющиеся записи в retail по CustomerID этого пользователя, отсортировать результат по количеству купленного и посмотреть на таблицу, поискать закономерности.\n",
    "\n",
    "2) Можно попробовать собрать самые покупаемые этим пользователем товары и разбить их на категории. Поискать закономерности в датах покупок, например.\n",
    "\n",
    "3) Может, все эти платежи были оптовой закупкой? А может это баг и все эти покупки от множества пользователей но записались в базу под одним идентификатором."
   ]
  },
  {
   "cell_type": "markdown",
   "metadata": {},
   "source": [
    "##### ОТВЕТ : 14646 , похоже на магазин какой-то"
   ]
  },
  {
   "cell_type": "markdown",
   "metadata": {},
   "source": [
    "## 11"
   ]
  },
  {
   "cell_type": "code",
   "execution_count": null,
   "metadata": {},
   "outputs": [],
   "source": [
    "Задание на построение дашборда\n",
    "Следующая задача: подготовить дашборд в Redash (состоящий из более чем четырх графиков). Есть несколько основных вариантов, и в обоих случаях вы можете дополнить его любыми графиками, которые кажутся вам интересными и полезными:\n",
    "\n",
    "Построить дашборд для отдела продаж. Вывести основные показатели: например, выручку по странам, дням, топ товаров, и другие графики, которые вы считаете необходимыми для отражения текущего положения дел.\n",
    "Самостоятельно поставить себе задачу :)  \n",
    "В поле ниже добавьте следующую информацию:\n",
    "\n",
    "Ссылку на ваш дашборд в Redash (формат: https://redash.lab.karpov.courses/dashboards/....)\n",
    "Краткое описание и основные выводы (если вы выбрали свою тему, то желательно описать более подробно)"
   ]
  },
  {
   "cell_type": "code",
   "execution_count": null,
   "metadata": {},
   "outputs": [],
   "source": [
    "\n",
    "# https://redash.lab.karpov.courses/dashboards/2792-marketing_kamsarin"
   ]
  },
  {
   "cell_type": "code",
   "execution_count": null,
   "metadata": {},
   "outputs": [],
   "source": [
    "# Запрос на ТОП 10 стран по выручке\n",
    "SELECT Country,\n",
    "    SUM(SUM_InvoiceNo) AS annual_revenue\n",
    "    \n",
    "FROM\n",
    "    (\n",
    "    SELECT \n",
    "        CustomerID,\n",
    "        Country,\n",
    "        InvoiceNo,\n",
    "        toStartOfMonth(InvoiceDate) AS InvoiceDate_Month,\n",
    "        SUM(UnitPrice * Quantity) AS SUM_InvoiceNo\n",
    "    FROM default.retail\n",
    "    \n",
    "    GROUP BY CustomerID,Country, InvoiceNo,InvoiceDate_Month\n",
    "    )\n",
    "GROUP BY Country\n",
    "ORDER BY annual_revenue DESC\n",
    "LIMIT 10"
   ]
  },
  {
   "cell_type": "code",
   "execution_count": null,
   "metadata": {},
   "outputs": [],
   "source": [
    "# Запрос на ТОП 10 покупателей\n",
    "SELECT \n",
    "    CustomerID,\n",
    "    Country,\n",
    "    SUM(SUM_InvoiceNo) AS order_amount\n",
    "    \n",
    "\n",
    "FROM\n",
    "    (\n",
    "    SELECT \n",
    "        CustomerID,\n",
    "        Country,\n",
    "       \n",
    "        SUM(UnitPrice * Quantity) AS SUM_InvoiceNo\n",
    "    FROM default.retail\n",
    "    \n",
    "    GROUP BY CustomerID,Country\n",
    "    )\n",
    "GROUP BY CustomerID, Country\n",
    "ORDER BY order_amount DESC\n",
    "LIMIT 10"
   ]
  },
  {
   "cell_type": "code",
   "execution_count": null,
   "metadata": {},
   "outputs": [],
   "source": [
    "# Запрос на популярные товары\n",
    "SELECT \n",
    "        Description,\n",
    "        StockCode,\n",
    "        COUNT(Quantity) as Total_quantity\n",
    "        \n",
    "FROM default.retail\n",
    "WHERE Description != 'POSTAGE' and Quantity > 0\n",
    "    \n",
    "GROUP BY Description, StockCode\n",
    "ORDER BY Total_quantity DESC\n",
    "LIMIT 10"
   ]
  },
  {
   "cell_type": "code",
   "execution_count": null,
   "metadata": {},
   "outputs": [],
   "source": [
    "# Запрос выручки по месяцам\n",
    "SELECT InvoiceDate_Month,\n",
    "    SUM(SUM_InvoiceNo) AS annual_revenue\n",
    "    \n",
    "FROM\n",
    "    (\n",
    "    SELECT \n",
    "        CustomerID,\n",
    "        Country,\n",
    "        InvoiceNo,\n",
    "        toStartOfMonth(InvoiceDate) AS InvoiceDate_Month,\n",
    "        SUM(UnitPrice * Quantity) AS SUM_InvoiceNo\n",
    "    FROM default.retail\n",
    "    \n",
    "    GROUP BY CustomerID,Country, InvoiceNo,InvoiceDate_Month\n",
    "    )\n",
    "GROUP BY InvoiceDate_Month"
   ]
  },
  {
   "cell_type": "code",
   "execution_count": null,
   "metadata": {},
   "outputs": [],
   "source": [
    "# Запрос выручки по дням недели\n",
    "SELECT InvoiceDate_Day,\n",
    "    SUM(SUM_InvoiceNo) AS Sum_Day\n",
    "    \n",
    "FROM\n",
    "    (\n",
    "    SELECT \n",
    "        CustomerID,\n",
    "        Country,\n",
    "        InvoiceNo,\n",
    "        toDayOfWeek(InvoiceDate) AS InvoiceDate_Day,\n",
    "        SUM(UnitPrice * Quantity) AS SUM_InvoiceNo\n",
    "    FROM default.retail\n",
    "    \n",
    "    GROUP BY CustomerID,Country, InvoiceNo,InvoiceDate_Day\n",
    "    )\n",
    "GROUP BY InvoiceDate_Day\n",
    "ORDER BY InvoiceDate_Day"
   ]
  },
  {
   "cell_type": "code",
   "execution_count": null,
   "metadata": {},
   "outputs": [],
   "source": [
    "# Запрос текущего времени\n",
    "SELECT now();"
   ]
  },
  {
   "cell_type": "code",
   "execution_count": null,
   "metadata": {},
   "outputs": [],
   "source": []
  },
  {
   "cell_type": "code",
   "execution_count": null,
   "metadata": {},
   "outputs": [],
   "source": []
  },
  {
   "cell_type": "code",
   "execution_count": null,
   "metadata": {},
   "outputs": [],
   "source": []
  },
  {
   "cell_type": "code",
   "execution_count": null,
   "metadata": {},
   "outputs": [],
   "source": []
  }
 ],
 "metadata": {
  "kernelspec": {
   "display_name": "Python 3",
   "language": "python",
   "name": "python3"
  },
  "language_info": {
   "codemirror_mode": {
    "name": "ipython",
    "version": 3
   },
   "file_extension": ".py",
   "mimetype": "text/x-python",
   "name": "python",
   "nbconvert_exporter": "python",
   "pygments_lexer": "ipython3",
   "version": "3.7.3"
  }
 },
 "nbformat": 4,
 "nbformat_minor": 4
}
