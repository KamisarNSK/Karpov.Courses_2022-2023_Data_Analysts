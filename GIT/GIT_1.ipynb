{
 "cells": [
  {
   "cell_type": "markdown",
   "metadata": {},
   "source": [
    "# ЧТО ТАКОЕ КОНТРОЛЬ ВЕРСИЙ И ЗАЧЕМ ОН НУЖЕН"
   ]
  },
  {
   "cell_type": "markdown",
   "metadata": {},
   "source": [
    "## Задание 1\n",
    "\n",
    "> Что делает команда cd?\n"
   ]
  },
  {
   "cell_type": "markdown",
   "metadata": {},
   "source": [
    "\n",
    "РЕШЕНИЕ\n",
    "\n",
    "Change directory (изменение директории) – то есть, позволяет перемещаться по папкам. После выполнения меняется папка, где вы находитесь: jupyter-a.ilin@lab:~$ cd analytics/ jupyter-a.ilin@lab:~/analytics$\n",
    "\n",
    " При использовании без аргумента перемещает в домашнюю директорию.\n",
    "\n",
    "ОТВЕТ\n",
    "\n",
    "– Перемещает по папкам, это очевидно!\n",
    "– Выводит \"Hello, World!\"\n",
    "– Копирует файлы!\n",
    "– Открывает дисковод компьютера"
   ]
  },
  {
   "cell_type": "markdown",
   "metadata": {},
   "source": [
    "###### ОТВЕТ – Перемещает по папкам, это очевидно!"
   ]
  },
  {
   "cell_type": "markdown",
   "metadata": {},
   "source": [
    "## Задание 2\n",
    "> Для чего нужна команда cat?"
   ]
  },
  {
   "cell_type": "markdown",
   "metadata": {},
   "source": [
    "РЕШЕНИЕ\n",
    "\n",
    "Сокращение от concatenate — выдаёт содержимое файла (файлов)\n",
    "\n",
    "jupyter-a.ilin@lab:~$ cat .ssh/id_rsa.pub ssh-rsa AAAAB3NzaC1yc2EAAAADAQABAAACAQDq8g0AQEhSHjKDrgjRE+gKZxPJp2p47QWuBRWUwvDzZahg1gGgQdcV4UW4KZ15Q/O5OW5uvyNw2ylOvpJw8Cfz1D3uryXM9hxPVDygTi/rYsxQhmSgPtQaog7QHINTR4ToWsWnchF7ZtizhdUXNNHSQF/D5QO9kflF1JAMVe4SIC102xrCwFzi+2opZMM731IFT/DpM92JIjh+jsEjMiQG9zaD6RQTqhW/S1kapJj3o2QAVFf2YV5xSOhGe7NgIsqN5mSTaTHampskSkX+ejPtznVLw8whDGSKhEv9P+y76ncjZnTEOsVVkNR2c9ic9B0OE/27Pt7i7ZCSo8SY/7PyP1LmnFArvwCq4K78RQEILD6uL0pD99+dNbwx7Cz9EfeKcmF25bL1vWe14OW0Kcf095xH2k8crgZr2LW9Ag0Cl5vFQ0qtzgCkZcntwXe23UBiIhdRUPxIipS90IAnkSYN65vWKv6+OmGNJ38blf0o0XvapXWtk2g+7hYjas7oz3XzaJKGIglZF2RtcZ0IEXgErvKN/CqrLexIkepWoOhnyzepBAKt0enwxx+bm3aSQQbiok0qsELSReVDi9f6xVCT0p6yaRxNq4HVor77YuQUHUYocoSMgWQWD0OETqIC2eK1RiHJ56MXtcWes1EHe+0x5JOm6fqJAQDcqA5mEMZwlw== jupyter-a.ilin@lab.karpov.courses\n",
    "\n",
    "\n",
    "ОТВЕТ\n",
    "\n",
    "– Открыть браузер с запросом котики\n",
    "– Вывести содержимое файла или файлов\n",
    "– Сконкатенировать датафрэймы в один\n",
    "– Открыть дисковод!"
   ]
  },
  {
   "cell_type": "markdown",
   "metadata": {},
   "source": [
    "###### ОТВЕТ – Вывести содержимое файла или файлов"
   ]
  },
  {
   "cell_type": "markdown",
   "metadata": {},
   "source": [
    "## Задание 3\n",
    "\n",
    "> А команда pwd?\n"
   ]
  },
  {
   "cell_type": "markdown",
   "metadata": {},
   "source": [
    "\n",
    "РЕШЕНИЕ\n",
    "\n",
    "Сокращение от print working directory. Делает то, чем назван. Не требует дополнительных указаний\n",
    "\n",
    "jupyter-a.ilin@lab:~$ pwd /home/jupyter-a.ilin\n",
    "\n",
    "\n",
    "ОТВЕТ\n",
    "\n",
    "– Ну теперь-то точно для открывания дисковода\n",
    "– Вывести путь папки, где вы находитесь\n",
    "– Сокращение от purge working directory – очистит её от незакоммиченных файлов\n",
    "– Переместить файлы"
   ]
  },
  {
   "cell_type": "markdown",
   "metadata": {},
   "source": [
    "###### ОТВЕТ – Вывести путь папки, где вы находитесь"
   ]
  },
  {
   "cell_type": "markdown",
   "metadata": {},
   "source": [
    "## Задание 4\n",
    "\n",
    "> Перейдём к более серьёзным вещам – что делает команда rm?\n"
   ]
  },
  {
   "cell_type": "markdown",
   "metadata": {},
   "source": [
    "\n",
    "РЕШЕНИЕ\n",
    "\n",
    "Remove — удаляет файлы или папки. rm может быть очень опасна, будьте внимательны.\n",
    "\n",
    "Без опций rm может удалять только файлы. Чтобы удалить папку, добавьте -r (что означает recursive)\n",
    "\n",
    "jupyter-a.ilin@lab:~$ rm -r my_new_dir my_new_dir1 my_new_dir2 my_new_dir3 jupyter-a.ilin@lab:~$ ls analytics introduction_python shared test\n",
    "\n",
    "\n",
    "Остерегайтесь выполнения команды rm -rf / — удалит всё без запроса подтверждения. А также остерегайтесь тех, кто вам это посоветует :(\n",
    "\n",
    "ОТВЕТ\n",
    "\n",
    "– Печатает директорию, где мы находимся\n",
    "– Создаёт пустую директорию\n",
    "– Необратимо удаляет файлы\n",
    "– Запускает терминал"
   ]
  },
  {
   "cell_type": "markdown",
   "metadata": {},
   "source": [
    "###### ОТВЕТ – Необратимо удаляет файлы"
   ]
  },
  {
   "cell_type": "code",
   "execution_count": null,
   "metadata": {},
   "outputs": [],
   "source": []
  },
  {
   "cell_type": "code",
   "execution_count": null,
   "metadata": {},
   "outputs": [],
   "source": []
  },
  {
   "cell_type": "code",
   "execution_count": null,
   "metadata": {},
   "outputs": [],
   "source": []
  },
  {
   "cell_type": "code",
   "execution_count": null,
   "metadata": {},
   "outputs": [],
   "source": []
  },
  {
   "cell_type": "code",
   "execution_count": null,
   "metadata": {},
   "outputs": [],
   "source": []
  }
 ],
 "metadata": {
  "kernelspec": {
   "display_name": "Python 3",
   "language": "python",
   "name": "python3"
  },
  "language_info": {
   "codemirror_mode": {
    "name": "ipython",
    "version": 3
   },
   "file_extension": ".py",
   "mimetype": "text/x-python",
   "name": "python",
   "nbconvert_exporter": "python",
   "pygments_lexer": "ipython3",
   "version": "3.7.3"
  }
 },
 "nbformat": 4,
 "nbformat_minor": 4
}
